{
 "cells": [
  {
   "cell_type": "markdown",
   "metadata": {},
   "source": [
    "# I. HÁZI FELADAT\n",
    "\n",
    "Ezt a feladatsort tetszőleges programozási nyelven meg lehet oldani, de a forráskódot minden esetben mellékelni kell. A python és octave megoldások programkódja kerülhet a jupyter notebookba. A programok legyenek modulárisak, használjanak függvényeket! A kimeneti adatok ábrázolásához minden esetben használjuk a jupyter notebookot! Az ábrák legyenek áttekinthetőek, és szerepeljen rajtuk tengelyfelirat!"
   ]
  },
  {
   "cell_type": "markdown",
   "metadata": {},
   "source": [
    "# Függvényillesztés a lineáris $\\chi^2$ módszerrel\n",
    "\n",
    "\n",
    "A lineáris $\\chi^2$-illesztés módszere olyan modellek paramétereinek meghatározására alkalmas, ahol az illesztendő függvény felírható tetszőleges függvények lineárkombinációjaként, feltéve, hogy az illesztési paraméterek csak a lineárkombináció együtthatóinak szerepét töltik be, vagyis\n",
    "\n",
    "$$ y(\\mathbf{a}, \\mathbf{x}) = \\sum_k a_k f_k(\\mathbf{x}), $$\n",
    "\n",
    "ahol $\\mathbf{a}$ a keresett paraméterekből alkotott vektor vektor, $\\mathbf{x}$ pedig a független változó. További feltétel, hogy az $f_k(\\mathbf{x})$ többváltozós függvények az összes $\\textbf{x}$ mérési pontban kiértékelhetők legyenek. Amennyiben a mérési hiba gauss-i, úgy az $y_i$ mért értékek hibáját egy $\\sigma_i$ értékkel jellemezhetjük, ahol az $i$ index a mérési pontokon fut. A függvényillesztés jóságát a\n",
    "\n",
    "$$\n",
    "\\chi^2(\\mathbf{a})\n",
    "    = \\sum_i \\frac{\\left[ y(\\mathbf{a}, \\mathbf{x}_i) - y_i \\right]^2}{\\sigma_i^2}\n",
    "    = \\sum_i \\frac{\\left[ \\sum_k a_k f_k(\\mathbf{x}_i) - y_i \\right]^2}{\\sigma_i^2}\n",
    "$$\n",
    "\n",
    "mennyiséggel jellemezhetjük, mely Gauss-eloszlású hiba esetében egzaktul következik a _maximum likelihood_ módszerből. A legjobban illeszkedő modellre a $\\chi^2$ kifejezésének értéke minimális, azaz azokat az $a_k$ paramétereket keressük, melyek mellett $\\chi^2$ parciális deriváltjai eltűnnek:\n",
    "\n",
    "$$\n",
    "\\frac{\\partial\\chi^2(\\mathbf{a})}{\\partial a_k} = 0\n",
    "$$\n",
    "\n",
    "minden $a_k$-ra. A parciális deriváltakra így felírt egyenletrendszer általában nem lineáris, így a megoldására közvetlen gyökkereső módszerekkel nem sok esélyünk van. Amennyiben azonban az $y(\\mathbf{a}, \\mathbf{x})$ modellt a fent bevezett lineárkombináció alakjában adjuk meg, úgy könnyen belátható, hogy a deriváltak nullává tétele a kövezkező egyenletrendszerre vezet:\n",
    "\n",
    "$$\n",
    "\\frac{\\partial\\chi^2(\\mathbf{a})}{\\partial a_k} =\n",
    "    2 \\cdot \\sum_i \\left[ \\frac{1}{\\sigma_i^2} \\cdot \n",
    "        \\left( \n",
    "            \\sum_j a_j f_j(\\mathbf{x}_i) - y_i\n",
    "        \\right) \\cdot f_k(\\mathbf{x}_i) \\right] = 0.\n",
    "$$\n",
    "\n",
    "Ez már lineáris egyenletrendszer az $a_k$ együtthatókra, hiszen az $y_i$ mért értékek és az $f_k(\\mathbf{x}_i)$ bázisfüggvények az $\\mathbf{x}_i$ mérési pontokban ismertek. Könnyű belátni, hogy némi átírás után bevezethető egy $X_{ik}$, ún. tervmátrix, és egy $b_i$ hibával redukált vektor:\n",
    "\n",
    "$$\n",
    "X_{ik} = \\frac{f_k(\\mathbf{x}_i)}{\\sigma_i} \\quad \\quad \\quad\n",
    "b_i = \\frac{y_i}{\\sigma_i}.\n",
    "$$\n",
    "\n",
    "A parciális deriváltak nullává tételével felírt egyenletrendszer ezekkel a jelölésekkel\n",
    "\n",
    "$$\n",
    "\\frac{\\partial\\chi^2(\\mathbf{a})}{\\partial a_k} =\n",
    "    \\sum_i \\left[ \\left( \\sum_j a_j X_{ij} - b_i \\right) X_{ik} \\right] = 0\n",
    "$$\n",
    "\n",
    "alakúnak adódik, mely átrendezés után \n",
    "\n",
    "$$\n",
    "\\sum_i \\sum_j X_{ij} X_{ik} a_j  = \\sum_i X_{ik} b_i,\n",
    "$$\n",
    "\n",
    "vagy mátrixos írásmóddal\n",
    "\n",
    "$$\n",
    "\\mathbf{X}^{T} \\mathbf{X} \\mathbf{a} = \\mathbf{X}^{T} \\mathbf{b}\n",
    "$$\n",
    "\n",
    "alakot ölt. Az egyenletet $\\mathbf{a}$-ra megoldva megkapjuk a $\\chi^2$-et minimalizáló paramétereket.\n",
    "\n",
    "## A redukált $\\chi^2$\n",
    "\n",
    "Mivel a $\\chi^2$-re felírt kifejezés függ a mérési pontok számától, ezért a $\\chi^2$ értéke nem használható arra, hogy két, különböző mérési sorozat esetében megállapítsuk, hogy ugyanaz a modell mennyire jól illeszkedik az egyik vagy másik adatsorra. Éppen ezért érdemes bevezetni a redukált $\\chi^2$ nevű mennyiséget:\n",
    "\n",
    "$$\n",
    "\\chi^2_\\nu = \\frac{\\chi^2}{\\nu},\n",
    "$$\n",
    "\n",
    "ahol $\\nu = N - M$ a szabadsági fokok száma, azaz a mérési adatpontok száma mínusz az illesztendő paraméterek száma. Jó illesztésről akkor beszélhetünk, ha $\\chi^2_\\nu \\approx 1$.\n",
    "\n",
    "## Az illesztett paraméterek aszimptotikus hibája\n",
    "\n",
    "A lineáris $\\chi^2$ módszerrel illesztett modellek paramétereinek hibáját úgy becsülthetjük meg, hogy tekintjük a $\\chi^2(\\mathbf{a})$ függvény második parciális deriváltjaiból alkotott mátrixot, hiszen a $\\chi^2$ kifejezésének Taylor-sorában az ennek megfelelő tag nem tűnik el minimum környezetében. Tekintve, hogy\n",
    "\n",
    "$$\n",
    "\\frac{\\partial^2 \\chi^2(\\mathbf{a})}{\\partial a_k \\partial a_l} =\n",
    "    \\sum_i X_{ij} X_{ik} = \\sum_i \\frac{f_k(\\mathbf{x}_i) f_l(\\mathbf{x}_i)}{\\sigma_i^2} =\n",
    "    \\alpha_{kl},\n",
    "$$\n",
    "\n",
    "az így bevezett $\\mathbf{\\alpha} = \\mathbf{X}^{T} \\mathbf{X}$ szimmetrikus mátrixról belátható, hogy annak $\\mathbf{C} = \\mathbf{\\alpha}^{-1}$ inverze, az ún. kovarianciamátrix, jól jellemzi az illesztett paraméterek hibáját és kovarianciáját. Az $a_k$ paraméter hibája egyszerűen $\\sigma_{a_k}^2 = C_{kk}$, míg az $a_k$ és $a_l$ paraméterek kovarianciája a $ \\textrm{cov}(a_k, a_l) = C_{kl}$ mátrixelem. Az így kiszámított hibák ún. aszimptotikus hibák, hiszen csupán a $\\chi^2$ felület másodrendű közelítését veszik figyelembe a minimumhely környezetében.\n",
    "\n",
    "## Hibabecslés a bootstrap módszerrel\n",
    "\n",
    "Az illesztett paraméterek hibájának pontos megbecslését olyan Monte Carlo módszerrel végezhetnénk el, mely képes mintavételezni az illesztési paraméterek pontos $p(\\mathbf{a})$ együttes eloszlásfüggvényét. Ehelyett egy gyakran használt, egyszerűbb, de igen hasznos eljárás a [bootstrap](https://outdoors.stackexchange.com/questions/11709/whats-the-purpose-of-the-sling-on-the-heel-of-boots) módszer, ahol az illesztést a mérési adatok egy véletlen részhalmazára (pl. egyharmadára) végezzük el, majd egy másik véletlen részhalmazt választunk, mellyel ismét elvégezzük az illesztést, és így tovább. Kellően sokszor megismételve az eljárást az illesztési paraméterekre egy-egy eloszlást kapunk, melyeknek meghatározhatjuk a várható értékét, szórását és kovarianciáit. A legjobban illeszkedő modellparamétereknek tekinthetjük az eloszlások várható értékét, míg illesztési hibának a szórásukat.\n",
    "\n",
    "\n",
    "## Irodalomjegyzék\n",
    "\n",
    "* Press, Teukolsky, Vetterling & Flannery: Numerical Recipes (in C), 3. kiadás, Cambridge University Press, 15.4. fejezet"
   ]
  },
  {
   "cell_type": "markdown",
   "metadata": {},
   "source": [
    "# Feladatok\n",
    "\n",
    "## 1. feladat\n",
    "\n",
    "Az alábbi függvény egy véletlenszerű adatsort generál. Írjunk rövid programot, mely az adatokra parabolát illeszt! A program ne beépített függvényillesztő rutint használjon, hanem végezze el a számolást a fent definiált $X_{ij}$ mátrix előállításával, és felírt lineáris egyenletrendszer megoldásával! Az egyenletrendszer megoldására tetszőleges függvénykönyvtár használható. Ábrázoljuk az adatokat és az eredményt! Próbáljuk meg úgy megírni a programot, hogy az tetszőleges fokszámú polinom illesztésére is alkalmas legyen! Számítsuk ki a legjobban illeszkedő modell esetében a redukált $\\chi^2$ értékét!"
   ]
  },
  {
   "cell_type": "code",
   "execution_count": 8,
   "metadata": {},
   "outputs": [
    {
     "name": "stdout",
     "output_type": "stream",
     "text": [
      "Populating the interactive namespace from numpy and matplotlib\n"
     ]
    }
   ],
   "source": [
    "import numpy as np\n",
    "import matplotlib.pyplot as plt\n",
    "# A szokásos import\n",
    "%pylab inline\n",
    "\n",
    "def some_random_coeffs():\n",
    "    a = 10 * np.random.rand() - 2.5\n",
    "    b = 20 * np.random.rand() - 5\n",
    "    c = 100 * np.random.rand() - 50\n",
    "    return a, b, c\n",
    "\n",
    "def some_random_data(a, b, c, N):\n",
    "    x = np.linspace(-N, N, 2 * N + 1)\n",
    "    sigma = 10 * (np.random.rand(x.shape[0]) + 1)\n",
    "    y = np.random.normal(a * x**2 + b * x + c, sigma)\n",
    "    return x, y, sigma\n",
    "\n",
    "def random_data_with_outliers(a, b, c, N, M):\n",
    "    x, y, sigma = some_random_data(a, b, c, N)\n",
    "    idx = np.random.randint(0, 2 * N, M)\n",
    "    y[idx] = np.min(y) + np.random.rand() * (np.max(y) - np.min(y))\n",
    "    return x, y, sigma"
   ]
  },
  {
   "cell_type": "code",
   "execution_count": 9,
   "metadata": {},
   "outputs": [],
   "source": [
    "a, b, c = some_random_coeffs()\n",
    "x, y, sigma = some_random_data(a, b, c, 10)\n",
    "#np.savetxt('adatsor.txt', np.transpose([x, y, sigma]))"
   ]
  },
  {
   "cell_type": "code",
   "execution_count": 10,
   "metadata": {},
   "outputs": [],
   "source": [
    "# ábra készítésére a függvény a mérési pontokkal és hibaintervallumokkal\n",
    "def plot(x,y):\n",
    "    figsize(15,10)\n",
    "    plt.plot(x, y, marker='o', linestyle='', label='Eredeti mérési adatok')\n",
    "    xlabel('Mérési pontok', fontsize = '20')\n",
    "    ylabel('Mért értékek', fontsize = '20')\n",
    "    plt.errorbar(x,y,sigma,linestyle='')\n",
    "    legend(loc='upper left')\n",
    "    plt.show()"
   ]
  },
  {
   "cell_type": "code",
   "execution_count": 11,
   "metadata": {},
   "outputs": [
    {
     "data": {
      "image/png": "[encoded data removed]",
      "text/plain": [
       "<Figure size 1080x720 with 1 Axes>"
      ]
     },
     "metadata": {
      "needs_background": "light"
     },
     "output_type": "display_data"
    }
   ],
   "source": [
    "plot(x,y)"
   ]
  },
  {
   "cell_type": "code",
   "execution_count": 12,
   "metadata": {},
   "outputs": [],
   "source": [
    "# az elő illesztés khi^2 módszerrel ugyan úgy mint az előző feladatban\n",
    "\n",
    "def illesztes(x,y,sigma):\n",
    "    \n",
    "    terv = np.empty((x.shape[0],3))  #megnézem a x hosszát és akkora üres mtrx-et hozok létre\n",
    "    b = np.empty((y.shape[0]))    #megnézem y ont és akkora üres vektort hozok létre\n",
    "    a = np.empty((3))  #létrehozom az a vektort ami tartalmazni fogja a minimalizáló paramétereket\n",
    "\n",
    "    for i in range (y.shape[0]): # b vektor elemeinek létrehozása\n",
    "        b[i] = y[i]/sigma[i]\n",
    "\n",
    "    for i in range(3):           # Tervmátrix elemeinek létrehozása\n",
    "        terv[:,i] = x**i / sigma\n",
    "\n",
    "    #a begoldandó egyenlet --> terv.T* terv * a = terv.T * b\n",
    "\n",
    "    a = np.linalg.solve(np.dot(terv.transpose(),terv),np.dot(terv.transpose(),b))\n",
    "\n",
    "    plothoz = np.empty((x.shape[0],3))\n",
    "\n",
    "    for j in range(3):\n",
    "            plothoz[:,j] = x**j\n",
    "\n",
    "    khi2 = (((np.dot(plothoz,a)) - y)**2)/(sigma)**2    # khi^2 kiszámolása\n",
    "\n",
    "    redkhi2 = khi2/(x.shape[0] -(len(a)))          # a redukált chi^2 értéke a legjobban illeszkedő modell esetére\n",
    "    print(redkhi2)\n",
    "    \n",
    "    residual = np.dot(plothoz,a) - khi2\n",
    "    \n",
    "    plt.plot(x, y, marker='o', linestyle='', label='Eredeti mérési pontok')\n",
    "    plt.plot(x, np.dot(plothoz,a), label='Az illesztett görge')\n",
    "    plt.errorbar(x,y,sigma,linestyle='')\n",
    "#    plt.plot(x,residual, label='Residual')\n",
    "#    plt.plot(x,khi2, label='Khi^2')\n",
    "    xlabel('Mérési pontok', fontsize = '20')\n",
    "    ylabel('Mért értékek', fontsize = '20')\n",
    "    legend(loc='upper left')\n",
    "\n",
    "\n",
    "\n",
    "    \n",
    "    return plothoz,a"
   ]
  },
  {
   "cell_type": "code",
   "execution_count": 13,
   "metadata": {},
   "outputs": [
    {
     "name": "stdout",
     "output_type": "stream",
     "text": [
      "[9.37383849e-07 1.94333892e-02 6.11802366e-02 2.52215009e-02\n",
      " 1.98867751e-02 2.08308521e-02 1.47326699e-03 2.91441591e-02\n",
      " 7.50484676e-03 9.08020450e-03 4.44136841e-02 6.48318565e-03\n",
      " 6.11556508e-03 3.23410712e-02 1.36119064e-01 5.86721543e-03\n",
      " 4.86421939e-02 4.71363949e-02 5.09134440e-03 1.15466572e-02\n",
      " 4.55828144e-03]\n"
     ]
    },
    {
     "data": {
      "text/plain": [
       "(array([[  1., -10., 100.],\n",
       "        [  1.,  -9.,  81.],\n",
       "        [  1.,  -8.,  64.],\n",
       "        [  1.,  -7.,  49.],\n",
       "        [  1.,  -6.,  36.],\n",
       "        [  1.,  -5.,  25.],\n",
       "        [  1.,  -4.,  16.],\n",
       "        [  1.,  -3.,   9.],\n",
       "        [  1.,  -2.,   4.],\n",
       "        [  1.,  -1.,   1.],\n",
       "        [  1.,   0.,   0.],\n",
       "        [  1.,   1.,   1.],\n",
       "        [  1.,   2.,   4.],\n",
       "        [  1.,   3.,   9.],\n",
       "        [  1.,   4.,  16.],\n",
       "        [  1.,   5.,  25.],\n",
       "        [  1.,   6.,  36.],\n",
       "        [  1.,   7.,  49.],\n",
       "        [  1.,   8.,  64.],\n",
       "        [  1.,   9.,  81.],\n",
       "        [  1.,  10., 100.]]), array([-7.98957702,  2.93339795,  0.38556688]))"
      ]
     },
     "execution_count": 13,
     "metadata": {},
     "output_type": "execute_result"
    },
    {
     "data": {
      "image/png": "[encoded data removed]",
      "text/plain": [
       "<Figure size 1080x720 with 1 Axes>"
      ]
     },
     "metadata": {
      "needs_background": "light"
     },
     "output_type": "display_data"
    }
   ],
   "source": [
    "illesztes(x,y,sigma)"
   ]
  },
  {
   "cell_type": "markdown",
   "metadata": {},
   "source": [
    "## 2. feladat\n",
    "\n",
    "Az alábbi függvényhívás olyan adatsort generál, amely kilógó (a megadott hibaértékkel nem jól jellemzett, vagy sok szigma értékkel eltérő) adatpontokat is tartalmaz. Írjunk programot, mely a $3\\sigma$-nál jobban kilógó pontok elhagyásával, két lépésben, illetve iteratív módon végzi el a parabolaillesztést!"
   ]
  },
  {
   "cell_type": "code",
   "execution_count": 14,
   "metadata": {},
   "outputs": [
    {
     "name": "stdout",
     "output_type": "stream",
     "text": [
      "Populating the interactive namespace from numpy and matplotlib\n"
     ]
    },
    {
     "name": "stderr",
     "output_type": "stream",
     "text": [
      "/opt/conda/lib/python3.6/site-packages/IPython/core/magics/pylab.py:160: UserWarning: pylab import has clobbered these variables: ['plot']\n",
      "`%matplotlib` prevents importing * from pylab and numpy\n",
      "  \"\\n`%matplotlib` prevents importing * from pylab and numpy\"\n"
     ]
    }
   ],
   "source": [
    "import numpy as np\n",
    "import matplotlib.pyplot as plt\n",
    "# A szokásos import\n",
    "%pylab inline\n",
    "\n",
    "def some_random_coeffs():\n",
    "    a = 10 * np.random.rand() - 2.5\n",
    "    b = 20 * np.random.rand() - 5\n",
    "    c = 100 * np.random.rand() - 50\n",
    "    return a, b, c\n",
    "\n",
    "def some_random_data(a, b, c, N):\n",
    "    x = np.linspace(-N, N, 2 * N + 1)\n",
    "    sigma = 10 * (np.random.rand(x.shape[0]) + 1)\n",
    "    y = np.random.normal(a * x**2 + b * x + c, sigma)\n",
    "    return x, y, sigma\n",
    "\n",
    "def random_data_with_outliers(a, b, c, N, M):\n",
    "    x, y, sigma = some_random_data(a, b, c, N)\n",
    "    idx = np.random.randint(0, 2 * N, M)\n",
    "    y[idx] = np.min(y) + np.random.rand() * (np.max(y) - np.min(y))\n",
    "    return x, y, sigma"
   ]
  },
  {
   "cell_type": "code",
   "execution_count": 15,
   "metadata": {},
   "outputs": [],
   "source": [
    "#A feladat elvégzéséhez megírt rész\n",
    "a, b, c = some_random_coeffs()\n",
    "x, y, sigma = random_data_with_outliers(a, b, c, 10, 3)\n"
   ]
  },
  {
   "cell_type": "code",
   "execution_count": 16,
   "metadata": {},
   "outputs": [
    {
     "name": "stdout",
     "output_type": "stream",
     "text": [
      "[5.16733113e-03 3.67327755e-01 1.42078832e-02 3.30767466e+00\n",
      " 2.14556239e-02 5.53001527e-02 7.84297048e-02 1.04449143e-01\n",
      " 1.83434822e-01 2.23223329e-02 6.06089928e-02 5.59971523e-01\n",
      " 6.15787302e-02 1.46403332e-02 1.10003494e+01 3.70854029e-03\n",
      " 4.18674689e-01 3.52751720e-01 1.07078742e-02 1.60571181e-06\n",
      " 1.64322443e-02]\n"
     ]
    },
    {
     "data": {
      "text/plain": [
       "<matplotlib.legend.Legend at 0x7fc62cb70f28>"
      ]
     },
     "execution_count": 16,
     "metadata": {},
     "output_type": "execute_result"
    },
    {
     "data": {
      "image/png": "[encoded data removed]",
      "text/plain": [
       "<Figure size 432x288 with 1 Axes>"
      ]
     },
     "metadata": {
      "needs_background": "light"
     },
     "output_type": "display_data"
    }
   ],
   "source": [
    "terv = np.empty((x.shape[0],3))  #megnézem a x hosszát és akkora üres mtrx-et hozok létre\n",
    "b = np.empty((y.shape[0]))    #megnézem y ont és akkora üres vektort hozok létre\n",
    "a = np.empty((3))  #létrehozom az a vektort ami tartalmazni fogja a minimalizáló paramétereket\n",
    "\n",
    "for i in range (y.shape[0]): # b vektor elemeinek létrehozása\n",
    "    b[i] = y[i]/sigma[i]\n",
    "\n",
    "for i in range(3):           # Tervmátrix elemeinek létrehozása\n",
    "    terv[:,i] = x**i / sigma\n",
    "\n",
    "    #a begoldandó egyenlet --> terv.T* terv * a = terv.T * b\n",
    "\n",
    "a = np.linalg.solve(np.dot(terv.transpose(),terv),np.dot(terv.transpose(),b))\n",
    "\n",
    "plothoz = np.empty((x.shape[0],3))\n",
    "for j in range(3):\n",
    "        plothoz[:,j] = x**j\n",
    "\n",
    "khi2 = (((np.dot(plothoz,a)) - y)**2)/(sigma)**2    # khi^2 kiszámolása\n",
    "\n",
    "redkhi2 = khi2/(x.shape[0] -(len(a)))          # a redukált chi^2 értéke a legjobban illeszkedő modell esetére\n",
    "print(redkhi2)\n",
    "    \n",
    "residual = np.dot(plothoz,a) - khi2\n",
    "    \n",
    "\n",
    "\n",
    "oszto = np.empty((x.shape[0]))\n",
    "\n",
    "for i in range (x.shape[0]):\n",
    "    oszto[i] = sigma[i]*3 \n",
    "\n",
    "end = abs((np.dot(plothoz,a)) - y)/oszto\n",
    "\n",
    "\n",
    "# a szűrést elvégzö rész\n",
    "\n",
    "xR = x[end <1]\n",
    "yR = y[end <1]\n",
    "sigmaR = sigma[end<1]\n",
    "pR = np.dot(plothoz,a)[end <1]\n",
    "\n",
    "xR.shape, yR.shape, sigmaR.shape, pR.shape\n",
    "plt.plot(x, y, marker='o', linestyle='', label='Eredeti mérési pontok')\n",
    "plt.plot(xR, yR, marker='o', linestyle='', label='Szűrés utáni pontok mérési pontok')\n",
    "plt.plot(x, np.dot(plothoz,a), label='Az illesztett görge')\n",
    "plt.plot(xR, pR,label='A szűrés után illesztett görge')\n",
    "plt.errorbar(x,y,sigma,linestyle='')\n",
    "xlabel('Mérési pontok', fontsize = '20')\n",
    "ylabel('Mért értékek', fontsize = '20')\n",
    "legend(loc='upper left')"
   ]
  },
  {
   "cell_type": "code",
   "execution_count": 17,
   "metadata": {},
   "outputs": [],
   "source": [
    "# az elő illesztés khi^2 módszerrel ugyan úgy mint az előző feladatban\n",
    "\n",
    "def illesztes(x,y,sigma):\n",
    "    \n",
    "    terv = np.empty((x.shape[0],3))  #megnézem a x hosszát és akkora üres mtrx-et hozok létre\n",
    "    b = np.empty((y.shape[0]))    #megnézem y ont és akkora üres vektort hozok létre\n",
    "    a = np.empty((3))  #létrehozom az a vektort ami tartalmazni fogja a minimalizáló paramétereket\n",
    "\n",
    "    for i in range (y.shape[0]): # b vektor elemeinek létrehozása\n",
    "        b[i] = y[i]/sigma[i]\n",
    "\n",
    "    for i in range(3):           # Tervmátrix elemeinek létrehozása\n",
    "        terv[:,i] = x**i / sigma\n",
    "\n",
    "    #a begoldandó egyenlet --> terv.T* terv * a = terv.T * b\n",
    "\n",
    "    a = np.linalg.solve(np.dot(terv.transpose(),terv),np.dot(terv.transpose(),b))\n",
    "\n",
    "    plothoz = np.empty((x.shape[0],3))\n",
    "\n",
    "    for j in range(3):\n",
    "            plothoz[:,j] = x**j\n",
    "\n",
    "    khi2 = (((np.dot(plothoz,a)) - y)**2)/(sigma)**2    # khi^2 kiszámolása\n",
    "\n",
    "    redkhi2 = khi2/(x.shape[0] -(len(a)))          # a redukált chi^2 értéke a legjobban illeszkedő modell esetére\n",
    "    print(redkhi2)\n",
    "    \n",
    "    residual = np.dot(plothoz,a) - khi2\n",
    "    \n",
    "    #def plot(x,y,plothoz,a,sigma, legend = True):\n",
    "    plt.plot(x, y, marker='o', linestyle='', label='Eredeti mérési pontok')\n",
    "    plt.plot(x, np.dot(plothoz,a), label='Az illesztett görge')\n",
    "    plt.errorbar(x,y,sigma,linestyle='')\n",
    "#    plt.plot(x,residual, label='Residual')\n",
    "    xlabel('Mérési pontok', fontsize = '20')\n",
    "    ylabel('Mért értékek', fontsize = '20')\n",
    "    #legend(loc='upper left')\n",
    "\n",
    "    \n",
    "    return plothoz,a"
   ]
  },
  {
   "cell_type": "code",
   "execution_count": 18,
   "metadata": {},
   "outputs": [
    {
     "name": "stdout",
     "output_type": "stream",
     "text": [
      "[5.16733113e-03 3.67327755e-01 1.42078832e-02 3.30767466e+00\n",
      " 2.14556239e-02 5.53001527e-02 7.84297048e-02 1.04449143e-01\n",
      " 1.83434822e-01 2.23223329e-02 6.06089928e-02 5.59971523e-01\n",
      " 6.15787302e-02 1.46403332e-02 1.10003494e+01 3.70854029e-03\n",
      " 4.18674689e-01 3.52751720e-01 1.07078742e-02 1.60571181e-06\n",
      " 1.64322443e-02]\n",
      "[1.40155595e-02 5.82040918e-01 5.91366114e-04 3.47839179e+00\n",
      " 1.00436205e-02 1.43145530e-02 6.14000685e-03 3.07840712e-02\n",
      " 6.42320420e-02 1.70480430e-03 1.40664857e-03 2.95667578e-01\n",
      " 8.99258831e-03 1.68992744e-01 8.37557309e-02 8.89615629e-02\n",
      " 1.58221434e-01 8.26084719e-02 2.58689694e-02 2.63567859e-05]\n",
      "[5.16733113e-03 3.67327755e-01 1.42078832e-02 3.30767466e+00\n",
      " 2.14556239e-02 5.53001527e-02 7.84297048e-02 1.04449143e-01\n",
      " 1.83434822e-01 2.23223329e-02 6.06089928e-02 5.59971523e-01\n",
      " 6.15787302e-02 1.46403332e-02 1.10003494e+01 3.70854029e-03\n",
      " 4.18674689e-01 3.52751720e-01 1.07078742e-02 1.60571181e-06\n",
      " 1.64322443e-02]\n",
      "[1.40155595e-02 5.82040918e-01 5.91366114e-04 3.47839179e+00\n",
      " 1.00436205e-02 1.43145530e-02 6.14000685e-03 3.07840712e-02\n",
      " 6.42320420e-02 1.70480430e-03 1.40664857e-03 2.95667578e-01\n",
      " 8.99258831e-03 1.68992744e-01 8.37557309e-02 8.89615629e-02\n",
      " 1.58221434e-01 8.26084719e-02 2.58689694e-02 2.63567859e-05]\n",
      "[5.16733113e-03 3.67327755e-01 1.42078832e-02 3.30767466e+00\n",
      " 2.14556239e-02 5.53001527e-02 7.84297048e-02 1.04449143e-01\n",
      " 1.83434822e-01 2.23223329e-02 6.06089928e-02 5.59971523e-01\n",
      " 6.15787302e-02 1.46403332e-02 1.10003494e+01 3.70854029e-03\n",
      " 4.18674689e-01 3.52751720e-01 1.07078742e-02 1.60571181e-06\n",
      " 1.64322443e-02]\n",
      "[1.40155595e-02 5.82040918e-01 5.91366114e-04 3.47839179e+00\n",
      " 1.00436205e-02 1.43145530e-02 6.14000685e-03 3.07840712e-02\n",
      " 6.42320420e-02 1.70480430e-03 1.40664857e-03 2.95667578e-01\n",
      " 8.99258831e-03 1.68992744e-01 8.37557309e-02 8.89615629e-02\n",
      " 1.58221434e-01 8.26084719e-02 2.58689694e-02 2.63567859e-05]\n",
      "3\n"
     ]
    },
    {
     "data": {
      "image/png": "[encoded data removed]",
      "text/plain": [
       "<Figure size 432x288 with 1 Axes>"
      ]
     },
     "metadata": {
      "needs_background": "light"
     },
     "output_type": "display_data"
    }
   ],
   "source": [
    "def maxell(x,y,a,plothoz):\n",
    "    \n",
    "    oszto = np.empty((x.shape[0]))\n",
    "    for i in range (x.shape[0]):\n",
    "        oszto[i] = sigma[i]*3 \n",
    "    end = abs((np.dot(plothoz,a)) -y)/oszto\n",
    "\n",
    "    max = 1\n",
    "    maxi = None\n",
    "    for i in range(end.shape[0]):\n",
    "        if (end[i]>max):\n",
    "            max = end[i]\n",
    "            maxi = i\n",
    "    if maxi is None:\n",
    "        xR = x\n",
    "        yR = y\n",
    "        sigmaR = sigma\n",
    "    else:\n",
    "        xR = np.delete(x,maxi,axis = None)\n",
    "        yR = np.delete(y,maxi,axis = None)\n",
    "        sigmaR = np.delete(sigma,maxi,axis = None)\n",
    "    eredmeny = illesztes(xR, yR, sigmaR)\n",
    "        \n",
    "    return xR,yR, eredmeny, end, n\n",
    "\n",
    "n = x.shape[0] - xR.shape[0]\n",
    "    \n",
    "for i in range(n):\n",
    "\n",
    "    eredmeny = illesztes(x,y,sigma)\n",
    "    maxell(x,y,eredmeny[1],eredmeny[0])\n",
    "print(n)"
   ]
  },
  {
   "cell_type": "code",
   "execution_count": null,
   "metadata": {},
   "outputs": [],
   "source": []
  },
  {
   "cell_type": "markdown",
   "metadata": {},
   "source": [
    "## 3. feladat\n",
    "\n",
    "Írjuk függvényt, mely meghatározza az illesztett paraméterek aszimptotikus hibáját és kovarianciáját."
   ]
  },
  {
   "cell_type": "code",
   "execution_count": 19,
   "metadata": {},
   "outputs": [
    {
     "name": "stdout",
     "output_type": "stream",
     "text": [
      "[[ 2.51359107e+01  8.22681381e-02 -3.97260786e-01]\n",
      " [ 8.22681381e-02  2.92480364e-01  1.87774319e-04]\n",
      " [-3.97260786e-01  1.87774319e-04  1.09016364e-02]]\n"
     ]
    }
   ],
   "source": [
    "terv = np.empty((x.shape[0],3))\n",
    "for i in range(3):           # Tervmátrix elemeinek létrehozása\n",
    "        terv[:,i] = x**i / sigma\n",
    "\n",
    "Hesse = np.linalg.inv(np.dot(transpose(terv, axes = None),terv))\n",
    "print(Hesse)"
   ]
  },
  {
   "cell_type": "markdown",
   "metadata": {},
   "source": [
    "## 4. feladat\n",
    "\n",
    "Határozzuk meg a kilógó pontokat is tartalmazó adatsor esetében az illesztett parabola paramétereinek eloszlását és hibáját a bootstrap módszer segítségével. A bootstrap eljárás során az illesztést többször megismételjük oly módon, hogy mindig csak a mérési pontok egy véletlen részhalmazát (pl. 60%-át) használjuk fel az illesztéshez. Az így kapott illesztési paraméterekből készítsünk hisztogramot, valamint számítsuk ki a paraméterek várható értékét és szórását! Hasonlítsuk össze a kapott értékeket a kovarianciamátrixból számolt aszimptotikus hibával."
   ]
  },
  {
   "cell_type": "code",
   "execution_count": null,
   "metadata": {},
   "outputs": [],
   "source": [
    "# a bootstrap módszer megvalósítása"
   ]
  },
  {
   "cell_type": "code",
   "execution_count": null,
   "metadata": {},
   "outputs": [],
   "source": [
    "# a bootstrap módszerrel kapott illesztési paraméterek eloszlása -- ábrák"
   ]
  },
  {
   "cell_type": "code",
   "execution_count": null,
   "metadata": {},
   "outputs": [],
   "source": [
    "# a várható értékek, szórások és kovarianciák meghatározása"
   ]
  },
  {
   "cell_type": "markdown",
   "metadata": {},
   "source": [
    "## 5. feladat\n",
    "\n",
    "A mellékelt fájlok olyan adatokat tartalmaznak, ahol öt független változó és egy skalár mért érték között van összefüggés. Írjunk függvényt, mely többváltozós polinomokat illeszt az adatokra a lineáris $\\chi^2$ módszer segítségével. A többváltozós polinomok olyan összeg alakban felírt formulák, ahol az összeg minden tagja $k$ változó egész kitevőjű hatványainak szorzata. A többváltozós polinom fokszámát az a tag adja, melyben a hatványkitevők összege maximális. Például a\n",
    "\n",
    "$$\n",
    "p(x, y, z) = 3 + 5 x^2 + 4 x y z + 6 y z^3\n",
    "$$\n",
    "\n",
    "háromváltozós, negyedfokú polinom, mely vegyes tagokat is tartalmaz.\n",
    "\n",
    "Az illesztés elvégzése után határozzuk meg az illesztési paraméterek hibáit, és keressünk módot arra, hogy miként ábrázolható a többváltozós illesztés jósága!\n",
    "\n",
    "Adatfájlok:\n",
    "    \n",
    "* [small.dat](www.vo.elte.hu/~dobos/teaching/fiznum2019/data/small.dat.gz)\n",
    "* [big.dat](www.vo.elte.hu/~dobos/teaching/fiznum2019/data/big.dat.gz)\n",
    "\n",
    "A fájlok oszlopai:\n",
    "\n",
    "* 1-5: független változó komponensei\n",
    "* 6: függő változó (mért érték)\n",
    "* 7: mérési hiba"
   ]
  },
  {
   "cell_type": "code",
   "execution_count": null,
   "metadata": {},
   "outputs": [],
   "source": []
  },
  {
   "cell_type": "code",
   "execution_count": null,
   "metadata": {},
   "outputs": [],
   "source": []
  },
  {
   "cell_type": "code",
   "execution_count": null,
   "metadata": {},
   "outputs": [],
   "source": []
  }
 ],
 "metadata": {
  "kernelspec": {
   "display_name": "Python 3",
   "language": "python",
   "name": "python3"
  },
  "language_info": {
   "codemirror_mode": {
    "name": "ipython",
    "version": 3
   },
   "file_extension": ".py",
   "mimetype": "text/x-python",
   "name": "python",
   "nbconvert_exporter": "python",
   "pygments_lexer": "ipython3",
   "version": "3.6.8"
  }
 },
 "nbformat": 4,
 "nbformat_minor": 2
}
