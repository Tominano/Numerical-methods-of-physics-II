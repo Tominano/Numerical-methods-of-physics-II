{
 "cells": [
  {
   "cell_type": "markdown",
   "metadata": {},
   "source": [
    "# IV. HÁZI FELADAT\n",
    "\n",
    "Ezt a feladatsort tetszőleges nyelven meg lehet oldani. A kimeneti adatok ábrázolásához minden esetben használjuk a jupyter notebookot! Az ábrák legyenek áttekinthetőek, és szerepeljen rajtuk tengelyfelirat!"
   ]
  },
  {
   "cell_type": "code",
   "execution_count": null,
   "metadata": {},
   "outputs": [],
   "source": [
    "import numpy as np\n",
    "import matplotlib.pyplot as plt"
   ]
  },
  {
   "cell_type": "markdown",
   "metadata": {},
   "source": [
    "# Időbeli folyamatok korrelációjának vizsgálata\n",
    "\n",
    "Időbeli folyamatok vizsgálatakor érdekes kérdés, hogy két változó \"mennyire egyszerre\" változik, illetve a változások milyen időbeli eltolással követik egymást. Jelöljön $f(t)$ és $g(t)$ két folytonos, de időben diszkréten és véges módon mintavételezett folyamatot. A két folyamat [keresztkorrelációs függvényét](https://en.wikipedia.org/wiki/Cross-correlation), mely a $\\tau$ _időeltolás_ függvényében adja meg, hogy a két folyamat mennyire egyszerre változik, a következő módon definiálhatjuk:\n",
    "\n",
    "$$\n",
    "R_{fg}(\\tau) = \\sum_t f(t) \\, g(t + \\tau) = \\sum_t f(t - \\tau) \\, g(t)\n",
    "$$\n",
    "\n",
    "Az egyes folyamatok várható értékét levonva, valamint a szórásokkal normálva a [keresztkovariancia](https://en.wikipedia.org/wiki/Cross-correlation)-függvényhez jutunk:\n",
    "\n",
    "$$\n",
    "K_{fg}(\\tau) = \\frac{1}{\\sigma_1 \\sigma_2} \\sum_t \\left[ f(t) - \\mu_f \\right] \\left[ g(t + \\tau) - \\mu_g \\right]\n",
    "$$\n",
    "\n",
    "Belátható, hogy ha a folyamatokat csak egy időben véges intervallumon ismerjük, akkor a korrelációs függvényt csak egy véges hosszúságú $\\tau < \\tau_{\\mathrm{max}}$ időablakkal érdemes meghatározni. A keresztkorrelációs függvény maximumának megkeresésével megtalálhatjuk azt az időeltolást, amely mellett a két időbeli folyamat a leginkább korrellál.\n",
    "\n",
    "Amennyiben egy időbeli folyamat korrelációját nem egy másik folyamathoz, hanem saját magához képest vizsgáljuk, úgyhogy keresztkorreláció helyett [autokorrelációról](https://en.wikipedia.org/wiki/Autocorrelation) beszélünk. Belátható, hogy az autokorrelációs függvény páros, illetve hogy periodikus jelek autokorrelációja periodikus. Nem periodikus jelek esetében az autokorrelációs függvény $\\tau = 0$-tól távolodva lecsengő. A lecsengés üteme függ a vizsgált folyamatoktól. Véletlenszerű zajok és kaotikusan viselkedő rendszerek esetében a lecsengés exponenciálisan gyors, de előfordulnak olyan folyamatok is, ahol a korrelációk csak hatványfüggvény szerint csengenek le.\n",
    "\n",
    "A kereszkorrelációs függvényhez nagyon hasonló módon definiáljuk diszkréten mintavételezett jelek [konvolúcióját](https://en.wikipedia.org/wiki/Convolution):\n",
    "\n",
    "$$\n",
    "f(t) \\star g(t) = \\sum_\\tau f(t) \\, g(t - \\tau)\n",
    "$$\n",
    "\n",
    "Lineáris rendszerek esetében korábban már láttuk, hogy a konvolúció művelete segítségével igen könnyen meghatározható a rendszer válasza, ha a [Green-függvény](https://en.wikipedia.org/wiki/Green%27s_function) (impulzusválasz) ismert. A konvolúció művelet Fourier-térben szorzásnak felel meg:\n",
    "\n",
    "$$\n",
    "(f \\star g)(\\omega) = f(\\omega) g(\\omega)\n",
    "$$\n",
    "\n",
    "Az autokorrelációs függvény szintén érdekes kapcsolatban áll a Fourier-transzformációval. A [Wiener-Hincsin-tétel](https://en.wikipedia.org/wiki/Wiener–Khinchin_theorem) kimondja, hogy egy függvény autokorrelációs függvényének Fourier-transzformáltja megegyezik a függvény teljesítményspektrumával, azaz Fourier-transzformáltjának abszolút érték négyzetével:\n",
    "\n",
    "$$\n",
    "R_{ff}(\\omega) = \\left| f(\\omega) \\right|^2\n",
    "$$"
   ]
  },
  {
   "cell_type": "markdown",
   "metadata": {},
   "source": [
    "# Feladatok\n",
    "\n",
    "## 1. feladat - Korreláció, konvolúció\n",
    "\n",
    "a) Írjunk olyan függvényeket, melyek a következő jelalakokat valósítják meg:\n",
    "\n",
    "* egyetlen $T$ szélességű, $A$ amplitúdójú négyszögimpulzus (boxcar)\n",
    "* egyetlen $T$ szélességű, $A$ amplitúdójú egyenlő szárú háromszögimpulzus\n",
    "* egyetlen $T$ szélességű, $A$ amplitúdójú merőleges szárú háromszögimpulzus\n",
    "* $T$ periódusidejú, $A$ amplitúdójú négyszögjel\n",
    "\n",
    "Rajzoljuk fel a jeleket egy megfelelően mintavételezett időtartományon, majd határozzuk meg:\n",
    "\n",
    "b) a jelek autokorrelációját\n",
    "\n",
    "c) keresztkorrelációját\n",
    "\n",
    "d) különböző jelek egymással vett konvolúcióját\n",
    "\n",
    "A feladat megvalósításához használjuk a `numpy.correlate` és `numpy.convolve` függvényeket."
   ]
  },
  {
   "cell_type": "code",
   "execution_count": null,
   "metadata": {},
   "outputs": [],
   "source": [
    "# feladat megoldása"
   ]
  },
  {
   "cell_type": "markdown",
   "metadata": {},
   "source": [
    "## 2. feladat - Véletlen bolyongás vizsgálata\n",
    "\n",
    "Véletlen bolyongásnak nevezzük azokat a folyamatokat, melyekben egy \"részecske\" valamilyen valószínűségi eloszlás szerint meghatározott lépések megtételével mozog egy, kettő vagy több dimenzióban. Az diszkrét időlépésekben történő bolyongást gyakran [Brown-mozgásnak](https://en.wikipedia.org/wiki/Brownian_motion), a folytonos határesetet pedig [Wiener-folyamatnak](https://en.wikipedia.org/wiki/Wiener_process) nevezzük.\n",
    "\n",
    "A Wiener-folyamat szimulációját megvalósíthatjuk úgy, hogy fehér zajt generálunk (azaz olyan zajt, mely spektrális teljesítménye minden frekvencián azonos), majd az így kapott időlépéseket kumuláljuk. Fehér zaj diszkrét időlépésekben történő generálása esetén ügyelni kell arra, hogy a Nyquist-frekvencia miatt nem elegendő pusztán egyenletes eloszlásból véletlen számokat generálni, hanem a konstans - de véletlen fázisú - spektrumból érdemes kiindulni.\n",
    "\n",
    "A véletlen folyamatokat ún. sztochasztikus differenciálegyenletekkel írjuk le. Például a Wiener-folyamat egyenlete\n",
    "\n",
    "$$\n",
    "\\dot x = \\xi(t),\n",
    "$$\n",
    "\n",
    "ahol $\\xi(t)$ a véletlenszerű fehér zajt reprezentálja.\n",
    "\n",
    "Egy véletlen bolyongást akkor nevezünk stacionáriusnak, ha sorozat által felvett $x$ értékek hosszú időre meghatározott eloszlásfüggvénye invariáns az időeltolásra. Ez a tulajdonság a Wiener-folyamatra nem teljesül, sőt, a Wiener-folyamat Fourier-transzformáltja sem létezik, mivel a transzformációt definiáló integrál nem véges. A korrelációs függvény és a Fourier-transzformált kapcsolatát ezért a viszkózus folyadékban mozgó túlcsillapított részecske bolyongását leíró, ún. [Ornstein-Uhlenbeck-folyamat](https://en.wikipedia.org/wiki/Ornstein–Uhlenbeck_process) esetében vizsgáljuk. Ez utóbbi folyamatot a következő sztochasztikus differenciálegyenlet írja le:\n",
    "\n",
    "$$\n",
    "\\dot x = - \\alpha x + D \\xi(t),\n",
    "$$\n",
    "\n",
    "ahol $\\alpha$ és $D$ pozitív konstansok, melyek a csillapítás erősségét, illetve a folyamat diffúzivitását adják meg. A $\\xi(t)$ véletlen változó továbbra is fehér zaj.\n",
    "\n",
    "Az alábbi függvények a fehér zaj, a diszkrét idejű Wiener-folyamat (Brown-mozgás), valamint az Ornstein-Uhlenbeck-folyamat szimulációját valósítják meg. A `covfunc` függvény egy $\\Delta \\tau$ ablakban határozza meg két diszkréten mintavételezett jel kovarianciafüggvényét. Ez praktikusabb, mint a fent használt `numpy.correlate` függvény, ezért a soron következő feladatok megvalításához célszerű ezt használni.\n",
    "\n",
    "Feladatok:\n",
    "\n",
    "a) A `wiener` függvény segítségével generáljunk egy megfelelően hosszú, diszkréten mintavételezett Wiener-folyamatot, azaz Brown-féle bolyongást. Ábrázoljuk a folyamat egy szakaszát úgy, hogy a bolyongás tipikus viselkedése jól megfigyelhető legyen. \n",
    "\n",
    "b) Mutassuk meg, hogy a Brown-mozgás során a kiindulási ponttól való eltérés _várható értéke_ arányos a lépésszám négyzetgyökével.\n",
    "\n",
    "c) Határozzuk meg a Brown-mozgás korrelációs függvényét\n",
    "\n",
    "d) A `damped_walk` függvény segítségével generáljunk egy diszkréten mintavételezett Ornstein-Uhlenbeck-folyamatot (csillapított Brown-mozgás). Ábrázoljuk a mozgást.\n",
    "\n",
    "e) Hatrozzuk meg a csillapított Brown-mozgás autokorrelációs függvényét valamint teljesítményspektrumát. Hogyan függ a korrelációk lecsengése a mozgás paramétereitől?\n",
    "\n",
    "f) Mutassuk meg numerikusan a csillapított Brown-mozgás esetére, hogy igaz a Wiener-Hincsin-tétel, azaz, hogy a korrelációs függvény Fourier-transzformáltjának abszolút értéke megegyezik a teljesítményspektrummal."
   ]
  },
  {
   "cell_type": "code",
   "execution_count": null,
   "metadata": {},
   "outputs": [],
   "source": [
    "def white_noise(N):\n",
    "    \"\"\"Fehérzaj generálása ifft-vel, konstans amplitúdójú, random fázisú spektrumból\"\"\"\n",
    "    #noise = 2 * np.random.rand(N) - 1\n",
    "    #noise = np.random.normal(0, 1, N)\n",
    "    s = 2 * np.exp(1j * np.random.rand(N // 2 + 1) * 2 * np.pi)\n",
    "    noise = np.fft.irfft(s)\n",
    "    return noise\n",
    "\n",
    "def wiener(N):\n",
    "    \"\"\"Wiener-folyamat fehérzaj alapján\"\"\"\n",
    "    step = white_noise(N)\n",
    "    walk = np.cumsum(step)\n",
    "    return walk\n",
    "\n",
    "def damped_walk(N, alpha=1, D=1):\n",
    "    \"\"\"Csillapított random bolyongás\"\"\"\n",
    "    step = white_noise(N)\n",
    "    walk = np.zeros(N)\n",
    "    for i in range(1, N):\n",
    "        walk[i] = walk[i -1] - alpha * walk[i - 1] + D * step[i]\n",
    "    return walk"
   ]
  },
  {
   "cell_type": "code",
   "execution_count": null,
   "metadata": {},
   "outputs": [],
   "source": [
    "def covfunc(x, y, w=None):\n",
    "    \"\"\"\n",
    "    Meghatározza két azonos időlépésenként mintavételezett jel kovarianciafüggvényét.\n",
    "    A kovarianciafüggvény kiszámítása egy ablakban történik, az összes lehetséges\n",
    "    diszjunkt realizáció átlagolásával.\n",
    "    \"\"\"\n",
    "    if not w:\n",
    "        w = int((min(np.sqrt(x.shape), np.sqrt(y.shape)) // 2) * 2 - 1)\n",
    "    if w == 1:\n",
    "        raise Exception('Window size too small.')\n",
    "    N = min(x.shape[0] // w, y.shape[0] // w)\n",
    "    if N == 0:\n",
    "        raise Exception('Window size too big.')\n",
    "    c = np.zeros(w)\n",
    "    mu_x = x.mean()\n",
    "    mu_y = y.mean()\n",
    "    sigma_x = np.sqrt(x.var())\n",
    "    sigma_y = np.sqrt(y.var())\n",
    "    for i in range(1, N - 1):\n",
    "        r = range((i - 1) * w, (i + 2) * w)\n",
    "        xr = x[r]\n",
    "        yr = y[r]\n",
    "        cr = np.correlate(xr - mu_x, yr - mu_y, mode='same')[w:-w]\n",
    "        c += cr\n",
    "    return c / w / sigma_x / sigma_y / (N - 2) / 3, np.arange(0, w) - w // 2"
   ]
  },
  {
   "cell_type": "code",
   "execution_count": null,
   "metadata": {},
   "outputs": [],
   "source": [
    "# Brown-mozgás vizsgálata"
   ]
  },
  {
   "cell_type": "code",
   "execution_count": null,
   "metadata": {},
   "outputs": [],
   "source": [
    "# sqrt(t) függés ellenőrzése"
   ]
  },
  {
   "cell_type": "code",
   "execution_count": null,
   "metadata": {},
   "outputs": [],
   "source": [
    "# A Brown-mozgás korrelációs és kovarianciafüggvénye"
   ]
  },
  {
   "cell_type": "code",
   "execution_count": null,
   "metadata": {},
   "outputs": [],
   "source": [
    "# A csillapított Brown-mozgás vizsgálata"
   ]
  },
  {
   "cell_type": "code",
   "execution_count": null,
   "metadata": {},
   "outputs": [],
   "source": [
    "# A csillapított Brown-mozgás autokorrelációs függvénye és teljesítményspektruma"
   ]
  },
  {
   "cell_type": "code",
   "execution_count": null,
   "metadata": {},
   "outputs": [],
   "source": [
    "# A Wiener-Hincsin-tétel ellenőrzése"
   ]
  },
  {
   "cell_type": "markdown",
   "metadata": {},
   "source": [
    "## 3. feladat - A logisztikus leképezés vizsgálata\n",
    "\n",
    "A [logisztikus leképezés](https://en.wikipedia.org/wiki/Logistic_map) az egyik legegyszerűbb kaotikus viselkedést mutató számsorozat, melyet a következő iteratív formula definiál:\n",
    "\n",
    "$$\n",
    "x_{t + 1} = r \\, x_t \\left( 1 - x_t \\right)\n",
    "$$\n",
    "\n",
    "Az $r$ érték egy ún. kontrollparaméter, amely meghatározza, hogy az iteráció periodikus vagy kaotikus viselkedést mutat. A kaotikus viselkedés $r > 3.57$ fölött kezd jellemzővé válni.\n",
    "\n",
    "A kaotikus rendszerek egy érdekes jellemzője, hogy bizonyos kontrollparaméter mellett ún. [intermittens](https://en.wikipedia.org/wiki/Intermittency) viselkedést mutatnak. Ilyenkor a rendszer váratlanul hosszabb vagy rövidebb ideig kvázi-periodikus viselkedést mutat, majd idővel újra beáll a káosz.\n",
    "\n",
    "Feladatok:\n",
    "\n",
    "a) Írjunk függvényt, mely megvalósítja a fent definiált logisztikus leképezést.\n",
    "\n",
    "b) Határozzuk meg a logisztikus leképezés autokovariancia függvényét az $r$ kontrollparaméter különböző értékei mellett. Hogyan cseng le a korreláció a kaotikus tartományban, illetve olyankor, amikor a rendszer láthatóan intermittens viselkedést is mutat?"
   ]
  },
  {
   "cell_type": "code",
   "execution_count": null,
   "metadata": {},
   "outputs": [],
   "source": [
    "# A logisztikus leképezést megvalósító függvény"
   ]
  },
  {
   "cell_type": "code",
   "execution_count": null,
   "metadata": {},
   "outputs": [],
   "source": [
    "# A logisztikus leképezés tulajdonságainak vizsgálata"
   ]
  }
 ],
 "metadata": {
  "kernelspec": {
   "display_name": "Python 3 [user-nofear]",
   "language": "python",
   "name": "python3-user-nofear"
  },
  "language_info": {
   "codemirror_mode": {
    "name": "ipython",
    "version": 3
   },
   "file_extension": ".py",
   "mimetype": "text/x-python",
   "name": "python",
   "nbconvert_exporter": "python",
   "pygments_lexer": "ipython3",
   "version": "3.6.8"
  }
 },
 "nbformat": 4,
 "nbformat_minor": 2
}
