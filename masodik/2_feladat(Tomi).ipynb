{
 "cells": [
  {
   "cell_type": "markdown",
   "metadata": {},
   "source": [
    "# II. HÁZI FELADAT\n",
    "\n",
    "Ezt a feladatsort tetszőleges programozási nyelven meg lehet oldani, de a forráskódot minden esetben mellékelni kell. A python és octave megoldások programkódja kerülhet a jupyter notebookba. A programok legyenek modulárisak, használjanak függvényeket! A kimeneti adatok ábrázolásához minden esetben használjuk a jupyter notebookot! Az ábrák legyenek áttekinthetőek, és szerepeljen rajtuk tengelyfelirat!"
   ]
  },
  {
   "cell_type": "markdown",
   "metadata": {},
   "source": [
    "# Oszcillátorok numerikus vizsgálata\n",
    "\n",
    "$$ \\def\\dd{{\\textrm{d}}} $$\n",
    "\n",
    "Oszcillátoroknak olyan dinamikai rendszereket nevezünk, melyek mozgása az idő periodikus vagy kvázi-periodikus függvényeként írható le. Az egydimenziós oszcillátor mozgásegyenlete\n",
    "\n",
    "$$ m \\frac{\\dd^2x}{\\dd t^2} = - \\frac{\\dd V(x)}{\\dd x} $$\n",
    "\n",
    "alakban írható. Egy szabad oszcillátor teljes energiája mindaddig megmarad, amíg a rendszerben nem hat súrlódási erő (csillapított oszcillátor), illetve nem hatunk rá külső erővel (gerjesztett oszcillátor). Az oszcillátor teljes energiája a kinetikus és a potenciális energia összege, azaz\n",
    "\n",
    "$$ E_{\\textrm{tot}} = \\frac{m v^2}{2} + V(x)$$\n",
    "\n",
    "## Harmonikus oszcillátor\n",
    "\n",
    "Amennyiben a $V(x)$ potenciál négyzetes, abban az esetben harmonikus oszcillátorról beszélünk:\n",
    "\n",
    "$$\\begin{eqnarray}\n",
    "    V(x) & = & \\frac{1}{2}kx^2 \\\\\n",
    "    m \\frac{\\dd^2x}{\\dd t^2} & = & - k x.\n",
    "\\end{eqnarray}$$\n",
    "\n",
    "A harmonikus oszcillátor mozgásegyenlete analitikusan is megoldható. A megoldás\n",
    "\n",
    "$$ x(t) = A \\cos( \\omega t + \\phi ) $$\n",
    "\n",
    "alakú, ahol $A$ az amplitúdó - vagyis a legnagyobb kitérés -, $\\omega$ a körfrekvencia és $\\phi$ a kezdőfázis $t = 0$-ban. A harmonikus oszcillátor körfrekvenciáját a potenciálban szereplő $k$ állandó és az $m$ tömeg jellgű mennyiség határozza meg:\n",
    "\n",
    "$$ \\omega = \\sqrt{\\frac{k}{m}} = \\frac{2\\pi}{T}, $$\n",
    "\n",
    "ahol $T$ a pediódusidő, melyből $f = 1/T$ módon kaphatjuk meg a frekvenciát.\n",
    "\n",
    "## Anharmonikus oszcillátor\n",
    "\n",
    "Az anharmonikus abban különböznek a harmonikus oszcillátortól, hogy a mozgásukat meghatározó potenciál nem négyzetes alakú. Néhány lehetséges anharmonikus potenciál:\n",
    "\n",
    "* Negyedrendű potenciál\n",
    "\n",
    "$$ V(x) = \\frac{1}{4}kx^4 $$\n",
    "\n",
    "* Lennard-Jones potenciál\n",
    "\n",
    "$$ V(x) = V_0 \\left[ \\left( \\frac{x_0}{x} \\right)^{12} - 2 \\left( \\frac{x_0}{x} \\right)^{6} \\right] $$\n",
    "\n",
    "## Csillapított és gerjesztett oszcillátor\n",
    "\n",
    "A csillapított és/vagy gerjesztett oszcillátorok mozgásegyenletében megjelenik egy sebességtől függő és egy további, többnyire időfüggő külső erőtag is:\n",
    "\n",
    "$$ m \\frac{\\dd^2x}{\\dd t^2} = - \\frac{\\dd V(x)}{\\dd x} - c \\frac{\\dd x}{\\dd t} + F(t) $$\n",
    "\n",
    "Csillapított és szinuszosan gerjesztett oszcillátorok viselkedése analitikusan is egyszerűen vizsgálható. Az alábbi feladatokban ezért ezektől eltérő rendszereket vizsgálunk numerikus módszerek segítségével."
   ]
  },
  {
   "cell_type": "markdown",
   "metadata": {},
   "source": [
    "# Feladatok"
   ]
  },
  {
   "cell_type": "markdown",
   "metadata": {},
   "source": [
    "## 1. feladat\n",
    "\n",
    "Számítsuk ki a fent felírt két anharmonikus potenciálhoz tartozó erőt."
   ]
  },
  {
   "cell_type": "markdown",
   "metadata": {},
   "source": [
    "[ megoldás helye ]\n",
    "\n",
    "## A lineáris harmónikus oszcilátor\n",
    "\n",
    "Az $m$ tömegű egydimenziós harmonikus oszcillátorra $ F = -kz$ erő hat, ahol $k$ egy pozitív állandó. Konzervatív erőtereknél az $erő$ előáll a potenciál negatív gradienseként.\n",
    "$$ F_{(r)} = - grad V_{(r)} $$\n",
    "\n",
    "Így ugyanezen analógia alapján számolom ki e két anharmonikus oszcillátorhoz tartozó erőket.\n",
    "### Első\n",
    "* Negyedrendű potenciál\n",
    "$$ V(x) = \\frac{1}{4}kx^4 $$\n",
    "Amiből az $erő$ $$F_{(x)} = - kx^3 $$\n",
    "\n",
    "### Második\n",
    "* Lennard-Jones potenciál\n",
    "$$ V(x) = V_0 \\left[ \\left( \\frac{x_0}{x} \\right)^{12} - 2 \\left( \\frac{x_0}{x} \\right)^{6} \\right] $$\n",
    "Amiből az $erő$ \n",
    "$$ F(x) = 12V_0 \\left[ \\left( \\frac{x_0^{12}}{x^{13}} \\right ) - \\left (\\frac{x_0^{6}}{x^{7}} \\right) \\right] $$"
   ]
  },
  {
   "cell_type": "markdown",
   "metadata": {},
   "source": [
    "# 2. feladat\n",
    "\n",
    "Írjunk olyan függvényeket, melyek kiszámítják a harmonikus potenciált, az ehhez tartozó erőt, illetve az 1. feladatban felírt anharmonikus potenciálokat és erőket. Ábrázoljuk a potenciálokat és az erőket grafikonon!"
   ]
  },
  {
   "cell_type": "code",
   "execution_count": null,
   "metadata": {},
   "outputs": [],
   "source": [
    "%pylab inline \n",
    "import matplotlib.pyplot as plt\n",
    "import numpy as np"
   ]
  },
  {
   "cell_type": "code",
   "execution_count": null,
   "metadata": {},
   "outputs": [],
   "source": [
    "def harm_plot():\n",
    "    \n",
    "    xV = linspace(-4,4,100)\n",
    "    xF = linspace(-3,3,100)    \n",
    "    yV = (1/2)* xV**2;\n",
    "    yF = -xF;\n",
    "    figsize(10,10)\n",
    "   \n",
    "    return xV,yV,xF,yF"
   ]
  },
  {
   "cell_type": "code",
   "execution_count": null,
   "metadata": {},
   "outputs": [],
   "source": [
    "def negyed_plot():\n",
    "    []\n",
    "    xV = linspace(-4,4,100)\n",
    "    xF = linspace(-2,2,100)\n",
    "    yV= (1/4) * xV**4;\n",
    "    yF= - xF**3;\n",
    "    return xV,yV,xF,yF"
   ]
  },
  {
   "cell_type": "code",
   "execution_count": null,
   "metadata": {},
   "outputs": [],
   "source": [
    "def lenjo_plot(v0,x0):\n",
    "    \n",
    "    xF = linspace(1.1,2,100)\n",
    "    xV = linspace(1.001,2.5,100)\n",
    "    zF=12*v0*(((x0**12/xF**13)-(x0**6/xF**7)));\n",
    "    zV=v0*(((x0/xV)**12)-2*(x0/xV)**6);\n",
    "    return zF,zV,xF,xV"
   ]
  },
  {
   "cell_type": "code",
   "execution_count": null,
   "metadata": {},
   "outputs": [],
   "source": [
    "def erö():\n",
    "    figsize(15,10)\n",
    "    xlabel('Távolság', fontsize = '15')\n",
    "    ylabel('Erő', fontsize = '15')\n",
    "    title('Az erők egy közös ábrán')\n",
    "    xlim(-2,2.5)\n",
    "    ylim(-7.5,7.5)\n",
    "    plt.plot(harm_plot()[2],harm_plot()[3], linestyle='-', color = \"r\", label='Harmónikus rezgőmozgás erőfüggvénye')\n",
    "    plt.plot(negyed_plot()[2],negyed_plot()[3], linestyle='-', color = \"g\",label='Negyedrendű potenciál erő függvénye')\n",
    "    plt.plot(lenjo_plot(3,1.2)[3],lenjo_plot(3,1.2)[0], marker='', linestyle='-', color = \"b\", label='Lennard-Jones potenciál erő függvénye')\n",
    "    legend(loc='upper left')   "
   ]
  },
  {
   "cell_type": "code",
   "execution_count": null,
   "metadata": {},
   "outputs": [],
   "source": [
    "erö()"
   ]
  },
  {
   "cell_type": "code",
   "execution_count": null,
   "metadata": {},
   "outputs": [],
   "source": [
    "def pot():\n",
    "    plt.plot(harm_plot()[0],harm_plot()[1], marker = '', linestyle='-', label='Harmónikus potenciál')\n",
    "    plt.plot(negyed_plot()[0],negyed_plot()[1], marker = '', linestyle='-', label='Negyedrendű potenciál')\n",
    "    plt.plot(lenjo_plot(3,1.2)[2],lenjo_plot(3,1.2)[0], marker='', linestyle='-', label='Lennard-Jones potenciál')\n",
    "\n",
    "    figsize(15,15)\n",
    "    xlabel('Távolság', fontsize = '15')\n",
    "    ylabel('Potenciál', fontsize = '15')\n",
    "    title('Az erők egy közös ábrán')"
   ]
  },
  {
   "cell_type": "code",
   "execution_count": null,
   "metadata": {},
   "outputs": [],
   "source": [
    "pot()"
   ]
  },
  {
   "cell_type": "markdown",
   "metadata": {},
   "source": [
    "## 3. feladat\n",
    "\n",
    "Integráljuk a harmonikus és Lennard-Jones-potenciállal meghatározott oszcillátorok mozgásegyenletét egyszerű negyed rendű Runge-Kutta-módszerrel vagy a Dormand-Prince-féle 5(4)-ed rendű, adaptív lépéshossz-választásos módszerrel. Az integráláshoz használjunk szabadon elérhető programcsomagot, pl.:\n",
    "\n",
    "* python: scipy.integrate.RK45\n",
    "* octave: ode45\n",
    "* C: GSL ODE csomag\n",
    "* C++: Boost.Numeric.Odeint csomag\n",
    "\n",
    "Ábrázoljuk az egyenlet változóinak időfejlődését, a teljes energiát és a lépéshosszt az idő függvényében!"
   ]
  },
  {
   "cell_type": "markdown",
   "metadata": {},
   "source": [
    "## Harmónikus rezgőmozgás problémája\n",
    "\n",
    "Természetesen az $$F = -Dr$$ alapesetből indulunk ki, ahol $F$ az erő, $D$ az ugynevezett direkciós állandó ami egy rugóval jellenezhető esetben a rugót jellemző állandó, $r$ egy vektor, ami pedig a kitérés. Mechanika tanulmányainkból tudjuk, hogy a mozgásegyenlete ennek a problémának, $$m \\ddot r = -Dr$$\n",
    "Ez egyenlet felírása után be kell vezetnem a $${\\omega}^2 = \\frac {D}{m}$$ mennyiséget, ahol $\\omega$ a körfrekvencia nevet viseli. A kör+ frekvenciával a következő alakra tudom hozni az egyenletemet, $$\\ddot r + {\\omega}^2 r = 0$$\n",
    "Ez egy másodrendű, állandó együtthatójú, homogén közönséges differenciálegyenlet, melynek tudjuk, hogy két megoldása van.Ezen differenciálegyenlet megoldásával kapom meg a partikuláris, majd az álltalános megoldást, majd kezdeti feltételeket megadva eljutunk a keresett potenciálhoz amiből egy gradiensképzéssel megkapjuk az erőt, mivel a tér amiben dolgoztunk potenciálos.Esetünkben egy egydimenziós mozgést fogok modellezni amit a $$\\ddot x + {\\omega}^2 x = 0$$ egyenlet jellemez.\n",
    "Amit a megoldáshoz egy elsőrendű diffegyenletre vezetünk vissza.\n",
    "$$v = \\dot x$$\n",
    "$$ \\frac{F}{m} = \\dot v$$"
   ]
  },
  {
   "cell_type": "code",
   "execution_count": null,
   "metadata": {},
   "outputs": [],
   "source": [
    "import numpy as np\n",
    "from scipy.integrate import RK45"
   ]
  },
  {
   "cell_type": "code",
   "execution_count": null,
   "metadata": {
    "scrolled": false
   },
   "outputs": [],
   "source": [
    "def lenjo_plot(n):\n",
    "    y_k = np.array([1.5,0])\n",
    "\n",
    "    def len_jopot(t,y):\n",
    "        m,x0,v0 = 1, 1, 1;\n",
    "        dx = y[1];\n",
    "        dv = 12*x0*(((x0**12/y[0]**13)-(x0**6/y[0]**7))/m);\n",
    "        return dx, dv\n",
    "\n",
    "    rk = RK45(len_jopot,0,y_k, 100,rtol=0.00001);\n",
    "    t = np.zeros(n)\n",
    "    y = np.empty((np.shape(t)[0],rk.y.shape[0]))\n",
    "\n",
    "    for i in range(n):\n",
    "        t[i] = rk.t\n",
    "        for j in range(rk.y.shape[0]):\n",
    "            y[i,:]=rk.y\n",
    "        rk.step()\n",
    "    \n",
    "    y1 = y[:,0]\n",
    "    y2 = y[:,1]\n",
    "\n",
    "    return t, y1, y2"
   ]
  },
  {
   "cell_type": "code",
   "execution_count": null,
   "metadata": {
    "scrolled": false
   },
   "outputs": [],
   "source": [
    "def negyed_plot(n):\n",
    "    y_k = np.array([10,10])\n",
    "\n",
    "    def negyed_pot(t,y):\n",
    "        x0, m = 0,1;\n",
    "        dx = y[1];\n",
    "        dv = -(y[0]**3)/m;\n",
    "        return dx, dv\n",
    "\n",
    "    rk = RK45(negyed_pot,0,y_k, 100,rtol=0.00001);\n",
    "    t = np.zeros(n)\n",
    "    y = np.empty((np.shape(t)[0],rk.y.shape[0]))\n",
    "\n",
    "    for i in range(n):\n",
    "        t[i] = rk.t\n",
    "        for j in range(rk.y.shape[0]):\n",
    "            y[i:,j]=rk.y[j]\n",
    "        rk.step()\n",
    "        \n",
    "    y1 = y[:,0]\n",
    "    y2 = y[:,1]\n",
    "\n",
    "    return t, y1,y2"
   ]
  },
  {
   "cell_type": "code",
   "execution_count": null,
   "metadata": {
    "scrolled": false
   },
   "outputs": [],
   "source": [
    "def harm_plot(n):\n",
    "    y_k = np.array([1,1])\n",
    "\n",
    "    def harm_oszc(t,y):\n",
    "        x, m = 1,1;\n",
    "        dx = y[1];\n",
    "        dv = -(y[0]/m);\n",
    "        return dx, dv\n",
    "\n",
    "    rk = RK45(harm_oszc,0,y_k, 100, rtol=0.00001);\n",
    "    t = np.zeros(n)\n",
    "    y = np.empty((np.shape(t)[0],rk.y.shape[0]))\n",
    "\n",
    "    for i in range(n):\n",
    "        t[i] = rk.t\n",
    "        for j in range(rk.y.shape[0]):\n",
    "            y[i,:]=rk.y\n",
    "        rk.step()\n",
    "        \n",
    "    y1 = y[:,0]\n",
    "    y2 = y[:,1]\n",
    "\n",
    "    return t, y1,y2"
   ]
  },
  {
   "cell_type": "code",
   "execution_count": null,
   "metadata": {},
   "outputs": [],
   "source": [
    "def move():\n",
    "    \n",
    "    plot(lenjo_plot(190)[0],lenjo_plot(190)[1], label = \"Lennard_Jones\")\n",
    "    plot(negyed_plot(600)[0],negyed_plot(600)[1], label = \"Negyedrendű\")\n",
    "    plot(harm_plot(50)[0],harm_plot(50)[1], label = \"Harmónikus\")\n",
    "   \n",
    "    figsize(15,15)\n",
    "    xlabel('Idő', fontsize = '15')\n",
    "    ylabel('Kitérés', fontsize = '15')\n",
    "    title('Mozgás')\n",
    "    legend(loc='upper left')"
   ]
  },
  {
   "cell_type": "code",
   "execution_count": null,
   "metadata": {},
   "outputs": [],
   "source": [
    "move()"
   ]
  },
  {
   "cell_type": "code",
   "execution_count": null,
   "metadata": {},
   "outputs": [],
   "source": [
    "def velo():\n",
    "    \n",
    "    plot(lenjo_plot(190)[0],lenjo_plot(190)[2], label = \"Lennard_Jones\")\n",
    "    plot(negyed_plot(600)[0],negyed_plot(600)[2], label = \"Negyedrendű\")\n",
    "    plot(harm_plot(50)[0],harm_plot(50)[2], label = \"Harmónikus\")\n",
    "\n",
    "    \n",
    "    \n",
    "    figsize(15,15)\n",
    "    xlabel('Idő', fontsize = '15')\n",
    "    ylabel('Sebesség', fontsize = '15')\n",
    "    title('Mozgás')\n",
    "    legend(loc='upper left')"
   ]
  },
  {
   "cell_type": "code",
   "execution_count": null,
   "metadata": {},
   "outputs": [],
   "source": [
    "velo()"
   ]
  },
  {
   "cell_type": "markdown",
   "metadata": {},
   "source": [
    "# 4. feladat\n",
    "\n",
    "Interpoláljuk a 3. feladatból kapott megoldásokat időben egyenletes lépésközzel, lineárisan és köbös spline-ok segítségével!"
   ]
  },
  {
   "cell_type": "code",
   "execution_count": null,
   "metadata": {},
   "outputs": [],
   "source": [
    "from scipy.interpolate import interp1d"
   ]
  },
  {
   "cell_type": "code",
   "execution_count": null,
   "metadata": {},
   "outputs": [],
   "source": [
    "def lenjo_int():\n",
    "    #Lineáris megoldás\n",
    "    f1 = interp1d(lenjo_plot(190)[0],lenjo_plot(190)[1] ,kind = 'linear')\n",
    "    xnew = np.linspace(0,max(lenjo_plot(190)[0]),1024)\n",
    "    #Köbös megoldás\n",
    "    f2 = interp1d(lenjo_plot(190)[0],lenjo_plot(190)[1] ,kind = 'cubic')\n",
    "    return xnew, f1(xnew),f2(xnew)\n",
    "    \n",
    "def lenjo_int_plot():   \n",
    "    figsize(15,15)\n",
    "    plot(lenjo_int()[0],lenjo_int()[1], label = \"Lineáris\")\n",
    "    legend(loc='upper left')\n",
    "    title(\"Lennard-Jones\")\n",
    "    plot(lenjo_int()[0],lenjo_int()[2], label = \"Köbös\")\n",
    "    legend(loc='upper left')"
   ]
  },
  {
   "cell_type": "code",
   "execution_count": null,
   "metadata": {},
   "outputs": [],
   "source": [
    "lenjo_int_plot()"
   ]
  },
  {
   "cell_type": "code",
   "execution_count": null,
   "metadata": {},
   "outputs": [],
   "source": [
    "def negyed_int():\n",
    "    figsize(15,15)\n",
    "    #Linéáris megoldás\n",
    "    f1 = interp1d(negyed_plot(600)[0],negyed_plot(600)[1],kind = 'linear')\n",
    "    xnew = np.linspace(0,max(negyed_plot(600)[0]),1024)\n",
    "    #köbös megoldás\n",
    "    f2 = interp1d(negyed_plot(600)[0],negyed_plot(600)[1],kind = 'cubic')\n",
    "\n",
    "    return xnew, f1(xnew),f2(xnew)\n",
    "\n",
    "def negyed_int_plot():    \n",
    "    title(\"Lennard-Jones\")\n",
    "    plot(negyed_int()[0],negyed_int()[2], label = \"Köbös\")\n",
    "    legend(loc='upper left')\n",
    "    plot(negyed_int()[0],negyed_int()[1], label = \"Lineáris\")\n",
    "    legend(loc='upper left')"
   ]
  },
  {
   "cell_type": "code",
   "execution_count": null,
   "metadata": {},
   "outputs": [],
   "source": [
    "negyed_int_plot()"
   ]
  },
  {
   "cell_type": "code",
   "execution_count": null,
   "metadata": {},
   "outputs": [],
   "source": [
    "def harm_int():        \n",
    "#interpoláció \n",
    "    figsize(15,15)\n",
    "    \n",
    "    xnew = np.linspace(0,max(harm_plot(50)[0]),1024)\n",
    "\n",
    "    f1 = interp1d(harm_plot(50)[0],harm_plot(50)[1] ,kind = 'linear')  #Linéáris megoldás\n",
    "    f2 = interp1d(harm_plot(50)[0],harm_plot(50)[1] ,kind = 'cubic')    #Köbös megoldás\n",
    "    \n",
    "    return xnew, f1(xnew),f2(xnew)\n",
    "\n",
    "def harm_int_plot():\n",
    "    title(\"Harmónikus oszcillátor\")\n",
    "    plot(harm_int()[0],harm_int()[2], label = \"Köbös\")\n",
    "    legend(loc='upper left')\n",
    "    plot(harm_int()[0],harm_int()[1], label = \"Lineáris\")\n",
    "    legend(loc='upper left')"
   ]
  },
  {
   "cell_type": "code",
   "execution_count": null,
   "metadata": {},
   "outputs": [],
   "source": [
    "harm_int_plot()"
   ]
  },
  {
   "cell_type": "markdown",
   "metadata": {},
   "source": [
    "## 5. feladat\n",
    "\n",
    "Számítsuk ki, és ábrázoljuk a felprogramozott oszcillátorok Fourier-spektrumát. Mit figyelhetünk meg?"
   ]
  },
  {
   "cell_type": "code",
   "execution_count": null,
   "metadata": {},
   "outputs": [],
   "source": [
    "from numpy.fft import *              # Fourier-analízishez használt rutinok\n",
    "from scipy.signal import spectrogram"
   ]
  },
  {
   "cell_type": "code",
   "execution_count": null,
   "metadata": {},
   "outputs": [],
   "source": [
    "freq = fftfreq((len(harm_int()[0])),harm_int()[0][0]- harm_int()[0][1])\n",
    "#Harmonikus oszcillátor\n",
    "plot(freq,abs(fft(harm_int()[2]))**2)  ### ezen dolgozz\n",
    "xlim(-2,2)\n"
   ]
  },
  {
   "cell_type": "code",
   "execution_count": null,
   "metadata": {},
   "outputs": [],
   "source": [
    "#Negyedrendű\n",
    "plot(negyed_int()[0],fft(negyed_int()[2]))\n",
    "\n",
    "freq = fftfreq((len(negyed_int()[0])),negyed_int()[0][0]- negyed_int()[0][1])\n",
    "#Harmonikus oszcillátor\n",
    "plot(freq,abs(fft(negyed_int()[2]))**2)\n",
    "xlim(-2,2)"
   ]
  },
  {
   "cell_type": "code",
   "execution_count": null,
   "metadata": {},
   "outputs": [],
   "source": [
    "#Lennard_Jones\n",
    "plot(lenjo_int()[0],fft(lenjo_int()[2]))\n",
    "\n",
    "freq = fftfreq((len(lenjo_int()[0])),lenjo_int()[0][0]- lenjo_int()[0][1])\n",
    "#Harmonikus oszcillátor\n",
    "plot(freq,abs(fft(lenjo_int()[2]))**2)\n",
    "xlim(-2,2)"
   ]
  },
  {
   "cell_type": "markdown",
   "metadata": {},
   "source": [
    "## 6. feladat\n",
    "\n",
    "Programozzunk be kaotikus oszcillátort!$^1$ Egy szinuszosan gerjesztett oszcillátor esetében a kaotikus viselkedés feltétele, hogy a visszatérítő erő ne lineáris függvénye legyen a kitérésnek. Ábrázoljuk a kitérés és a sebesség időfüggését, valamint a teljesítményspektrumot! Futassuk az integrálást legalább 1 millió lépésig, és ábrázoljuk a rendszer Poincaré-metszetét, azaz a sebességet a kitérés függvényében az $\\omega t = n \\cdot 2 \\pi, n = 1, 2, 3, ... $ feltétel mellett!\n",
    "\n",
    "$^1$ http://sprott.physics.wisc.edu/pubs/paper265.pdf"
   ]
  },
  {
   "cell_type": "code",
   "execution_count": null,
   "metadata": {},
   "outputs": [],
   "source": []
  },
  {
   "cell_type": "code",
   "execution_count": null,
   "metadata": {},
   "outputs": [],
   "source": []
  }
 ],
 "metadata": {
  "kernelspec": {
   "display_name": "Python 3",
   "language": "python",
   "name": "python3"
  },
  "language_info": {
   "codemirror_mode": {
    "name": "ipython",
    "version": 3
   },
   "file_extension": ".py",
   "mimetype": "text/x-python",
   "name": "python",
   "nbconvert_exporter": "python",
   "pygments_lexer": "ipython3",
   "version": "3.6.8"
  }
 },
 "nbformat": 4,
 "nbformat_minor": 2
}
