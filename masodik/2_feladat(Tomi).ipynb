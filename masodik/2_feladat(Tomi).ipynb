{
 "cells": [
  {
   "cell_type": "markdown",
   "metadata": {},
   "source": [
    "# II. HÁZI FELADAT\n",
    "\n",
    "Ezt a feladatsort tetszőleges programozási nyelven meg lehet oldani, de a forráskódot minden esetben mellékelni kell. A python és octave megoldások programkódja kerülhet a jupyter notebookba. A programok legyenek modulárisak, használjanak függvényeket! A kimeneti adatok ábrázolásához minden esetben használjuk a jupyter notebookot! Az ábrák legyenek áttekinthetőek, és szerepeljen rajtuk tengelyfelirat!"
   ]
  },
  {
   "cell_type": "markdown",
   "metadata": {},
   "source": [
    "# Oszcillátorok numerikus vizsgálata\n",
    "\n",
    "$$ \\def\\dd{{\\textrm{d}}} $$\n",
    "\n",
    "Oszcillátoroknak olyan dinamikai rendszereket nevezünk, melyek mozgása az idő periodikus vagy kvázi-periodikus függvényeként írható le. Az egydimenziós oszcillátor mozgásegyenlete\n",
    "\n",
    "$$ m \\frac{\\dd^2x}{\\dd t^2} = - \\frac{\\dd V(x)}{\\dd x} $$\n",
    "\n",
    "alakban írható. Egy szabad oszcillátor teljes energiája mindaddig megmarad, amíg a rendszerben nem hat súrlódási erő (csillapított oszcillátor), illetve nem hatunk rá külső erővel (gerjesztett oszcillátor). Az oszcillátor teljes energiája a kinetikus és a potenciális energia összege, azaz\n",
    "\n",
    "$$ E_{\\textrm{tot}} = \\frac{m v^2}{2} + V(x)$$\n",
    "\n",
    "## Harmonikus oszcillátor\n",
    "\n",
    "Amennyiben a $V(x)$ potenciál négyzetes, abban az esetben harmonikus oszcillátorról beszélünk:\n",
    "\n",
    "$$\\begin{eqnarray}\n",
    "    V(x) & = & \\frac{1}{2}kx^2 \\\\\n",
    "    m \\frac{\\dd^2x}{\\dd t^2} & = & - k x.\n",
    "\\end{eqnarray}$$\n",
    "\n",
    "A harmonikus oszcillátor mozgásegyenlete analitikusan is megoldható. A megoldás\n",
    "\n",
    "$$ x(t) = A \\cos( \\omega t + \\phi ) $$\n",
    "\n",
    "alakú, ahol $A$ az amplitúdó - vagyis a legnagyobb kitérés -, $\\omega$ a körfrekvencia és $\\phi$ a kezdőfázis $t = 0$-ban. A harmonikus oszcillátor körfrekvenciáját a potenciálban szereplő $k$ állandó és az $m$ tömeg jellgű mennyiség határozza meg:\n",
    "\n",
    "$$ \\omega = \\sqrt{\\frac{k}{m}} = \\frac{2\\pi}{T}, $$\n",
    "\n",
    "ahol $T$ a pediódusidő, melyből $f = 1/T$ módon kaphatjuk meg a frekvenciát.\n",
    "\n",
    "## Anharmonikus oszcillátor\n",
    "\n",
    "Az anharmonikus abban különböznek a harmonikus oszcillátortól, hogy a mozgásukat meghatározó potenciál nem négyzetes alakú. Néhány lehetséges anharmonikus potenciál:\n",
    "\n",
    "* Negyedrendű potenciál\n",
    "\n",
    "$$ V(x) = \\frac{1}{4}kx^4 $$\n",
    "\n",
    "* Lennard-Jones potenciál\n",
    "\n",
    "$$ V(x) = V_0 \\left[ \\left( \\frac{x_0}{x} \\right)^{12} - 2 \\left( \\frac{x_0}{x} \\right)^{6} \\right] $$\n",
    "\n",
    "## Csillapított és gerjesztett oszcillátor\n",
    "\n",
    "A csillapított és/vagy gerjesztett oszcillátorok mozgásegyenletében megjelenik egy sebességtől függő és egy további, többnyire időfüggő külső erőtag is:\n",
    "\n",
    "$$ m \\frac{\\dd^2x}{\\dd t^2} = - \\frac{\\dd V(x)}{\\dd x} - c \\frac{\\dd x}{\\dd t} + F(t) $$\n",
    "\n",
    "Csillapított és szinuszosan gerjesztett oszcillátorok viselkedése analitikusan is egyszerűen vizsgálható. Az alábbi feladatokban ezért ezektől eltérő rendszereket vizsgálunk numerikus módszerek segítségével."
   ]
  },
  {
   "cell_type": "markdown",
   "metadata": {},
   "source": [
    "# Feladatok"
   ]
  },
  {
   "cell_type": "markdown",
   "metadata": {},
   "source": [
    "## 1. feladat\n",
    "\n",
    "Számítsuk ki a fent felírt két anharmonikus potenciálhoz tartozó erőt."
   ]
  },
  {
   "cell_type": "markdown",
   "metadata": {},
   "source": [
    "[ megoldás helye ]\n",
    "\n",
    "## A lineáris harmónikus oszcilátor\n",
    "\n",
    "Az $m$ tömegű egydimenziós harmonikus oszcillátorra $ F = -kz$ erő hat, ahol $k$ egy pozitív állandó. Konzervatív erőtereknél az $erő$ előáll a potenciál negatív gradienseként.\n",
    "$$ F_{(r)} = - grad V_{(r)} $$\n",
    "\n",
    "Így ugyanezen analógia alapján számolom ki e két anharmonikus oszcillátorhoz tartozó erőket.\n",
    "### Első\n",
    "* Negyedrendű potenciál\n",
    "$$ V(x) = \\frac{1}{4}kx^4 $$\n",
    "Amiből az $erő$ $$F_{(x)} = kx^3 $$\n",
    "\n",
    "### Második\n",
    "* Lennard-Jones potenciál\n",
    "$$ V(x) = V_0 \\left[ \\left( \\frac{x_0}{x} \\right)^{12} - 2 \\left( \\frac{x_0}{x} \\right)^{6} \\right] $$\n",
    "Amiből az $erő$ $$F_{x} =  12V_0 \\left[\\left(\\frac{x_0}{x} \\right)^{11} -\\left( \\frac{x_0}{x} \\right)^{5} \\right ] \\cdot(x_0)(x^{-2})$$"
   ]
  },
  {
   "cell_type": "code",
   "execution_count": 16,
   "metadata": {},
   "outputs": [
    {
     "name": "stdout",
     "output_type": "stream",
     "text": [
      "Populating the interactive namespace from numpy and matplotlib\n"
     ]
    }
   ],
   "source": [
    "%pylab inline \n",
    "import matplotlib.pyplot as plt"
   ]
  },
  {
   "cell_type": "code",
   "execution_count": 24,
   "metadata": {},
   "outputs": [
    {
     "data": {
      "text/plain": [
       "<matplotlib.legend.Legend at 0xa91d88ec>"
      ]
     },
     "execution_count": 24,
     "metadata": {},
     "output_type": "execute_result"
    },
    {
     "data": {
      "image/png": "[encoded data removed]",
      "text/plain": [
       "<Figure size 432x288 with 1 Axes>"
      ]
     },
     "metadata": {
      "needs_background": "light"
     },
     "output_type": "display_data"
    }
   ],
   "source": [
    "x=linspace(-100,100);\n",
    "y=x**3;\n",
    "xlabel('Távolság', fontsize = '15')\n",
    "ylabel('Erő', fontsize = '15')\n",
    "title('Esgyszerpű plot')\n",
    "plt.plot(x,y, marker='o', linestyle='', label='Negyedrendű potenciál erő függvénye')\n",
    "#plt.plot(x,z, marker='.', linestyle='', label='Negyedrendű potenciál erő függvénye')\n",
    "legend(loc='upper left')\n",
    "\n",
    "#z=12*(((1/x)**11)-(1/x)**5)*x**(-2)"
   ]
  },
  {
   "cell_type": "markdown",
   "metadata": {},
   "source": [
    "## 2. feladat\n",
    "\n",
    "Írjunk olyan függvényeket, melyek kiszámítják a harmonikus potenciált, az ehhez tartozó erőt, illetve az 1. feladatban felírt anharmonikus potenciálokat és erőket. Ábrázoljuk a potenciálokat és az erőket grafikonon!"
   ]
  },
  {
   "cell_type": "code",
   "execution_count": null,
   "metadata": {},
   "outputs": [],
   "source": [
    "# megoldás helye\n",
    "# nem"
   ]
  },
  {
   "cell_type": "markdown",
   "metadata": {},
   "source": [
    "## 3. feladat\n",
    "\n",
    "Integráljuk a harmonikus és Lennard-Jones-potenciállal meghatározott oszcillátorok mozgásegyenletét egyszerű negyed rendű Runge-Kutta-módszerrel vagy a Dormand-Prince-féle 5(4)-ed rendű, adaptív lépéshossz-választásos módszerrel. Az integráláshoz használjunk szabadon elérhető programcsomagot, pl.:\n",
    "\n",
    "* python: scipy.integrate.RK45\n",
    "* octave: ode45\n",
    "* C: GSL ODE csomag\n",
    "* C++: Boost.Numeric.Odeint csomag\n",
    "\n",
    "Ábrázoljuk az egyenlet változóinak időfejlődését, a teljes energiát és a lépéshosszt az idő függvényében!"
   ]
  },
  {
   "cell_type": "code",
   "execution_count": null,
   "metadata": {},
   "outputs": [],
   "source": [
    "# megoldás helye"
   ]
  },
  {
   "cell_type": "markdown",
   "metadata": {},
   "source": [
    "## 4. feladat\n",
    "\n",
    "Interpoláljuk a 3. feladatból kapott megoldásokat időben egyenletes lépésközzel, lineárisan és köbös spline-ok segítségével!"
   ]
  },
  {
   "cell_type": "code",
   "execution_count": null,
   "metadata": {},
   "outputs": [],
   "source": [
    "# megoldás helye"
   ]
  },
  {
   "cell_type": "markdown",
   "metadata": {},
   "source": [
    "## 5. feladat\n",
    "\n",
    "Számítsuk ki, és ábrázoljuk a felprogramozott oszcillátorok Fourier-spektrumát. Mit figyelhetünk meg?"
   ]
  },
  {
   "cell_type": "code",
   "execution_count": null,
   "metadata": {},
   "outputs": [],
   "source": [
    "# megoldás helye"
   ]
  },
  {
   "cell_type": "markdown",
   "metadata": {},
   "source": [
    "## 6. feladat\n",
    "\n",
    "Programozzunk be kaotikus oszcillátort!$^1$ Egy szinuszosan gerjesztett oszcillátor esetében a kaotikus viselkedés feltétele, hogy a visszatérítő erő ne lineáris függvénye legyen a kitérésnek. Ábrázoljuk a kitérés és a sebesség időfüggését, valamint a teljesítményspektrumot! Futassuk az integrálást legalább 1 millió lépésig, és ábrázoljuk a rendszer Poincaré-metszetét, azaz a sebességet a kitérés függvényében az $\\omega t = n \\cdot 2 \\pi, n = 1, 2, 3, ... $ feltétel mellett!\n",
    "\n",
    "$^1$ http://sprott.physics.wisc.edu/pubs/paper265.pdf"
   ]
  },
  {
   "cell_type": "code",
   "execution_count": null,
   "metadata": {},
   "outputs": [],
   "source": []
  }
 ],
 "metadata": {
  "kernelspec": {
   "display_name": "Python 3",
   "language": "python",
   "name": "python3"
  },
  "language_info": {
   "codemirror_mode": {
    "name": "ipython",
    "version": 3
   },
   "file_extension": ".py",
   "mimetype": "text/x-python",
   "name": "python",
   "nbconvert_exporter": "python",
   "pygments_lexer": "ipython3",
   "version": "3.6.7"
  }
 },
 "nbformat": 4,
 "nbformat_minor": 2
}
