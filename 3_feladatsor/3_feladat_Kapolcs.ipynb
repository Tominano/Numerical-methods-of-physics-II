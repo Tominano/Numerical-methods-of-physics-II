{
 "cells": [
  {
   "cell_type": "markdown",
   "metadata": {},
   "source": [
    "# III. HÁZI FELADAT\n",
    "\n",
    "Ezt a feladatsort Python nyelven kell megoldani. A kimeneti adatok ábrázolásához minden esetben használjuk a jupyter notebookot! Az ábrák legyenek áttekinthetőek, és szerepeljen rajtuk tengelyfelirat!\n",
    "\n",
    "Az feladatok megoldásához szükség lesz az `ahkab` nevű áramkörszimulációs csomagra, és a `SchemDraw` nevű, kapcsolási rajzok készítésére szolgáló csomagra, melyek legfrissebb verziói `pip` segítségével installálhatók:\n",
    "\n",
    "```\n",
    "$ pip install git+https://github.com/ahkab/ahkab.git\n",
    "$ pip install SchemDraw\n",
    "```"
   ]
  },
  {
   "cell_type": "markdown",
   "metadata": {},
   "source": [
    "# Passzív áramkörök numerikus vizsgálata\n",
    "\n",
    "Lineáris, időben állandó fizikai rendszerek vizsgálatakor gyakran foglalkozunk ideális elektronikus áramkörökkel, hiszen az elméleti érdekességeken túl ezek a gyakorlatban is igen fontosak. Az alábbi feladatok passzív elektronikai alkatrészekből (ellenállás, kondenzátor és induktivitás) megépíthető áramkörök viselkedését vizsgálják, de az alkalmazott módszerek a jelfeldolgozás területén általánosan használhatók. A feladatok megoldása során az `ahkab` áramkörszimulációs csomagot használjuk, mely nagy időfelbontással számítja ki az áramkör egyes csomópontjaiban megjelenő jelalakokat (időfüggő feszültségeket). Az ilyen szimuláció közelebb áll a valódi analóg áramkörök működéséhez. A későbbiekben olyan, ún. diszkrét idejű rendszerekkel is fogalkozunk majd, melyek a digitális jelfeldolgozás modelljének tekinthetők.\n",
    "\n",
    "A passzív elektronikai altrészek viselkedése a következő egyszerű fizikai törvényekkel írhatók le, ahol $u = u(t)$ az időfüggő feszültség, $i = i(t)$ az áram, $R$ az elleneállás, $C$ a kapacitás és $L$ az induktivitás:\n",
    "\n",
    "* Ellenállás: $$ u = R i $$\n",
    "\n",
    "* Kondenzátor: $$ \\frac{du}{dt} = \\frac{1}{C} i $$\n",
    "\n",
    "* Induktivitás: $$ u = L \\frac{di}{dt} $$\n",
    "\n",
    "Konkrét áramkörök esetében az egyes komponensekre felírt differenciálegyenleteket a [Kirchhoff-törvények](https://hu.wikipedia.org/wiki/Kirchhoff-törvények) kapcsolják rendszerbe. Az egyenletek megoldásakor valamelyik bemeneti jelalakot (feszültség- vagy áramérték időbeli változását) előírjuk, és a rendszer erre adott válaszát, azaz egy kimeneti jelalak időfejlődését keressük.\n",
    "\n",
    "Érdekes elméleti kérdés, hogy egy rendszer milyen választ ad egy nagyon rövid ideig tartó vizsgálóimpulzus esetében. Matematikailag az ilyen vizsgálóimpulzusokat Dirac-delta függvénnyel írjuk le, és ismert, hogy egy lineáris, időinvariáns rendszer válaszfüggvénye tetszőleges gerjesztés esetében meghatározható az **impulzusválasz** (más néven Green-függvény) és a gerjesztés konvolúciójaként:\n",
    "\n",
    "$$\n",
    "u_\\mathrm{out}(t) = \\int_{-\\infty}^{t} u_\\mathrm{in}(\\tau) g(t-\\tau) d\\tau,\n",
    "$$\n",
    "\n",
    "ahol az, hogy az integrálás $t$-ig tart a rendszer kauzalitását fejezi ki.\n",
    "\n",
    "Lineáris időinvariáns rendszereket érdemes Fourier-kifejtésben vizsgálni. Ilyekor a rendszer szinuszos bemenő gerjesztésekre adott válaszát keressük, ami a tranziens viselkedés lecsengése után a linearitás miatt azonos frekvenciájú, szintén szinuszos jelalak lesz. Egy rendszer **átviteli függvénye** megadja, hogy egy $f$ frekvenciájú szinuszos gerjesztés esetében a rendszer mekkora csillagpítást, illetve fázistolást okoz. Ismert, hogy Fourier-térben a konvolúció művelete a gerjesztés és az impulzusválasz Fourier-transzformáltjának szorzataként írható fel, és ebből az is következik, hogy az átviteli függvény az impulzusválasz Fourier-transzformáltja.\n",
    "\n",
    "A feladatok során passzív áramköri elemekből összállított analóg szűrőket vizsgálunk, melyek az ún. Butterworth-topológiát követik. Az interneten elérhetők olyan eszközök, melyekkel különböző átviteli karakterisztikájú passzív vagy aktív szűrők tervezhetők, ld. pl.:    \n",
    "    \n",
    "* https://rf-tools.com/lc-filter/\n",
    "* https://www.analog.com/designtools/en/filterwizard/\n",
    "\n",
    "Az alábbi cellák olyan függvényeket definiálnak, melyek segítségével az ahkab programcsomag részletes ismerete nélkül is kiszámíthajuk néhány áramkör bemenő jelre adott válaszfüggvényét."
   ]
  },
  {
   "cell_type": "code",
   "execution_count": 3,
   "metadata": {},
   "outputs": [],
   "source": [
    "import numpy as np\n",
    "from scipy.interpolate import interp1d\n",
    "import matplotlib.pyplot as plt\n",
    "\n",
    "import ahkab\n",
    "from ahkab import new_ac, run\n",
    "from ahkab.circuit import Circuit\n",
    "from ahkab import circuit, printing, time_functions\n",
    "\n",
    "import SchemDraw as schem\n",
    "import SchemDraw.elements as elem"
   ]
  },
  {
   "cell_type": "code",
   "execution_count": 4,
   "metadata": {},
   "outputs": [],
   "source": [
    "def run_transient(circuit, fun, tstart=0, tstop=1e-2, tstep=1e-5):\n",
    "    gnd = c.get_ground_node()\n",
    "    c.add_vsource(\"V_in\", n1=\"n_in\", n2=gnd, dc_value=5, ac_value=1, function=fun)\n",
    "    t = ahkab.new_tran(tstart=tstart, tstop=tstop, tstep=tstep, x0=None)\n",
    "    r = ahkab.run(circuit, an_list=[t])\n",
    "    \n",
    "    time = r['tran']['T']\n",
    "    source = fun(r['tran']['T'])\n",
    "    response = r['tran']['Vn_out']\n",
    "    \n",
    "    c.remove_elem(\"V_in\")\n",
    "    \n",
    "    return time, source, response"
   ]
  },
  {
   "cell_type": "markdown",
   "metadata": {},
   "source": [
    "## Egyszerű aluláteresztő RC-kör"
   ]
  },
  {
   "cell_type": "code",
   "execution_count": 5,
   "metadata": {},
   "outputs": [
    {
     "data": {
      "image/png": "[encoded data removed]",
      "text/plain": [
       "<Figure size 267.57x138.87 with 1 Axes>"
      ]
     },
     "metadata": {
      "needs_background": "light"
     },
     "output_type": "display_data"
    }
   ],
   "source": [
    "def rc_lowpass():\n",
    "    c = circuit.Circuit(title=\"RC-tag\")\n",
    "    \n",
    "    c.add_resistor(\"R1\", n1=\"n_in\", n2=\"n_out\", value=600)\n",
    "    c.add_capacitor(\"C1\", n1=\"n_out\", n2=c.gnd, value=210e-9)\n",
    "    \n",
    "    return c\n",
    "\n",
    "def draw_rc_lowpass():\n",
    "    d = schem.Drawing()\n",
    "    V_in = d.add(elem.SOURCE_SIN, d='up')\n",
    "    R = d.add(elem.RES, d='right', label='600')\n",
    "    C = d.add(elem.CAP, d='down', botlabel='210n')\n",
    "    d.add(elem.LINE, to=V_in.start)\n",
    "    d.add(elem.LINE, d='right', xy=R.end)\n",
    "    d.add(elem.DOT, label='a')\n",
    "    d.add(elem.LINE, d='right', xy=C.end)\n",
    "    d.add(elem.DOT, label='b')\n",
    "    d.draw()\n",
    "    \n",
    "draw_rc_lowpass()"
   ]
  },
  {
   "cell_type": "markdown",
   "metadata": {},
   "source": [
    "## 4-ed rendű Butterworth-féle aluláteresztő szűrő"
   ]
  },
  {
   "cell_type": "code",
   "execution_count": 6,
   "metadata": {},
   "outputs": [
    {
     "data": {
      "image/png": "[encoded data removed]",
      "text/plain": [
       "<Figure size 623.97x144.017 with 1 Axes>"
      ]
     },
     "metadata": {
      "needs_background": "light"
     },
     "output_type": "display_data"
    }
   ],
   "source": [
    "def butterworth_lowpass():\n",
    "    c = circuit.Circuit(title=\"4-ed rendű Butterworth-féle aluláteresztő szűrő\")\n",
    "    \n",
    "    c.add_resistor(\"R1\", n1=\"n_in\", n2=\"n2\", value=600)\n",
    "    c.add_inductor(\"L1\", n1=\"n2\", n2=\"n3\", value=15e-3)\n",
    "    c.add_capacitor(\"C1\", n1=\"n3\", n2=c.gnd, value=200e-9)\n",
    "    c.add_inductor(\"L2\", n1=\"n3\", n2=\"n_out\", value=61e-3)\n",
    "    c.add_capacitor(\"C2\", n1=\"n_out\", n2=c.gnd, value=150e-9)\n",
    "    c.add_resistor(\"R2\", n1=\"n_out\", n2=c.gnd, value=1.1e3)\n",
    "    \n",
    "    return c\n",
    "\n",
    "def draw_butterworth_lowpass():\n",
    "    d = schem.Drawing()\n",
    "    \n",
    "    V_in = d.add(elem.SOURCE_SIN, d='up')\n",
    "    R1 = d.add(elem.RES, d='right', label='$R_1$\\n600')\n",
    "    L1 = d.add(elem.INDUCTOR2, d='right', label='$L_1$\\n15m')\n",
    "    C1 = d.add(elem.CAP, d='down', label='$C_1$\\n200n')\n",
    "    L2 = d.add(elem.INDUCTOR2, d='right', xy=C1.start, label='$L_2$\\n61m')\n",
    "    C2 = d.add(elem.CAP, d='down', label='$C_2$\\n150n')\n",
    "    d.add(elem.LINE, d='right', xy=C2.start)\n",
    "    R2 = d.add(elem.RES, d='down', label='$R_2$\\n1.1k')\n",
    "    for i in range(4): d.add(elem.LINE, d='left')\n",
    "    d.add(elem.LINE, d='right', xy=R2.start)\n",
    "    d.add(elem.DOT, label='$V_\\mathrm{out}$')\n",
    "    d.add(elem.LINE, d='right', xy=R2.end)\n",
    "    d.add(elem.DOT)\n",
    "    \n",
    "    d.draw()\n",
    "    \n",
    "draw_butterworth_lowpass()"
   ]
  },
  {
   "cell_type": "code",
   "execution_count": 7,
   "metadata": {},
   "outputs": [
    {
     "data": {
      "image/png": "[encoded data removed]",
      "text/plain": [
       "<Figure size 1217.97x144.017 with 1 Axes>"
      ]
     },
     "metadata": {
      "needs_background": "light"
     },
     "output_type": "display_data"
    }
   ],
   "source": [
    "def butterworth_bandpass():\n",
    "    c = Circuit('Butterworth-féle 1kHz-es sáváteresztő szűrő')\n",
    "    \n",
    "    c.add_resistor('R1', 'n_in', 'n2', 50.)\n",
    "    c.add_inductor('L1', 'n2', 'n3', 12e-3)\n",
    "    c.add_capacitor('C1', 'n3', 'n4', 2.2e-6)\n",
    "    c.add_inductor('L2', 'n4', c.gnd, 2e-3)\n",
    "    c.add_capacitor('C2', 'n4', c.gnd, 13e-6)\n",
    "    c.add_inductor('L3', 'n4', 'n5', 39e-3)\n",
    "    c.add_capacitor('C3', 'n5', 'n6', 680e-9)\n",
    "    c.add_inductor('L4', 'n6', c.gnd, 2e-3)\n",
    "    c.add_capacitor('C4', 'n6', c.gnd, 13e-6)\n",
    "    c.add_capacitor('C5', 'n7', 'n_out', 2.2e-6)\n",
    "    c.add_inductor('L5', 'n6', 'n7', 12e-3)\n",
    "    c.add_resistor('R2', 'n_out', c.gnd, 50.)\n",
    "    \n",
    "    return c\n",
    "\n",
    "def draw_butterworth_bandpass():\n",
    "    d = schem.Drawing()\n",
    "    \n",
    "    V_in = d.add(elem.SOURCE_SIN, d='up')\n",
    "    R1 = d.add(elem.RES, d='right', label='$R_1$\\n50')\n",
    "    L1 = d.add(elem.INDUCTOR2, d='right', label='$L_1$\\n12m')\n",
    "    C1 = d.add(elem.CAP, d='right', label='$C_1$\\n2.2$\\mu$')\n",
    "    L2 = d.add(elem.INDUCTOR2, d='down', label='$L_2$\\n2m')\n",
    "    d.add(elem.LINE, d='right', xy=L2.start)\n",
    "    C2 = d.add(elem.CAP, d='down', label='$C_2$\\n13$\\mu$')\n",
    "    L3 = d.add(elem.INDUCTOR2, d='right', xy=C2.start, label='$L_3$\\n39m')\n",
    "    C3 = d.add(elem.CAP, d='right', label='$C_3$\\n680n')\n",
    "    L4 = d.add(elem.INDUCTOR2, d='down', label='$L_4$\\n2m')\n",
    "    d.add(elem.LINE, d='right', xy=L4.start)\n",
    "    C4 = d.add(elem.CAP, d='down', label='$C_4$\\n13$\\mu$')\n",
    "    L5 = d.add(elem.INDUCTOR2, d='right', xy=C4.start, label='$L_5$\\n12m')\n",
    "    C5 = d.add(elem.CAP, d='right', label='$C_5$\\n2.2$\\mu$')\n",
    "    R2 = d.add(elem.RES, d='down', label='$R_2$\\n50')\n",
    "    for i in range(9): d.add(elem.LINE, d='left')\n",
    "    d.add(elem.LINE, d='right', xy=R2.start)\n",
    "    d.add(elem.DOT, label='$V_\\mathrm{out}$')\n",
    "    d.add(elem.LINE, d='right', xy=R2.end)\n",
    "    d.add(elem.DOT)\n",
    "    \n",
    "    d.draw()\n",
    "    \n",
    "draw_butterworth_bandpass()"
   ]
  },
  {
   "cell_type": "markdown",
   "metadata": {},
   "source": [
    "# Feladatok\n",
    "\n",
    "## 1. feladat - Mérőjelek szimulációja\n",
    "\n",
    "Analóg áramkörök kísérleti, szimulált és analitikus vizsgálatakor gyakran alkalmazunk ún. mérőjeleket. Írjunk függvényeket, melyek megvalósítják\n",
    "\n",
    "* a tetszőleges frekvenciájú, amplitúdójú és fázisú szinuszos mérőjelet.\n",
    "* a tetszőleges periódusidejű és amplitúdójú négyszögjelet.\n",
    "* az egységimpulzust.\n",
    "* az egységugrást.\n",
    "\n",
    "Ábrázoljuk a mérőjeleket grafikonon. Interpoláció segítségével mintavételezzük a megvalósított mérőjeleket állandó időbeli felbontással. Milyen mintavételezési frekvencia szükséges egy $f$ frekvenciájú szinuszhullám mintavételezéséhez?"
   ]
  },
  {
   "cell_type": "code",
   "execution_count": null,
   "metadata": {},
   "outputs": [],
   "source": [
    "# mérőjeleket megvalósítő függvények"
   ]
  },
  {
   "cell_type": "code",
   "execution_count": null,
   "metadata": {},
   "outputs": [],
   "source": [
    "# ábrázolás"
   ]
  },
  {
   "cell_type": "markdown",
   "metadata": {},
   "source": [
    "## 2. feladat - Mérőjelekre adott válaszok analízise\n",
    "\n",
    "Szimuláljuk a mérőjelek hatását a fenti függvényekben definiált áramkörökre:\n",
    "\n",
    "* Butterworth-féle aluláteresztő szűrő\n",
    "* Butterworth-féle 1kHz-es sáváteresztő szűrő\n",
    "\n",
    "Egységurás és impulzus esetén ügyeljünk arra, hogy a szimulált áramkörök viselkedését kiértékelő algoritmus csak folytonos, szakadással nem rendelkező függvények esetében működik, így célszerű a mérőjeleket az `interp1d` osztály segítségével \"folytonossá\" alakítani.\n",
    "\n",
    "A paraméterezendő függvényeket legegyszerűbben ún. lambda kifejezésként adhatjuk át a tranziens viselkedést kiszámító `run_transient` függvénynek.\n",
    "\n",
    "Az alábbi példa az RC-tag válaszfüggvényét mutatja 1kHz-es szinuszos gerjesztés esetén."
   ]
  },
  {
   "cell_type": "code",
   "execution_count": null,
   "metadata": {},
   "outputs": [],
   "source": [
    "c = rc_lowpass()\n",
    "t, s, r = run_transient(c, lambda t: np.sin(1000 * 2 * np.pi * t), tstart=0, tstop=10e-3)\n",
    "\n",
    "plt.plot(t * 1e3, s)\n",
    "plt.plot(t * 1e3, r)\n",
    "plt.xlabel(\"ms\")\n",
    "plt.ylabel(\"V\")"
   ]
  },
  {
   "cell_type": "code",
   "execution_count": null,
   "metadata": {},
   "outputs": [],
   "source": [
    "# Mérőjelek alkalmazása Butterworth-féle sáváteresztő szűrőre"
   ]
  },
  {
   "cell_type": "code",
   "execution_count": null,
   "metadata": {},
   "outputs": [],
   "source": [
    "# Mérőjelek alkalmazása Butterworth-féle aluláteresztő szűrőre"
   ]
  },
  {
   "cell_type": "markdown",
   "metadata": {},
   "source": [
    "## 3. feladat - Átviteli függvény meghatározása\n",
    "\n",
    "Szimuláljuk a rendszer kimenetét különböző fkrevenciájú szinuszos bemenőjelek esetén. Határozzuk meg a kimenet amplitúdóját és fáziseltolódását a frekvencia függvényében. Ügyeljünk arra, hogy a kimeneti jel amplitúdóját a tranziens szakasz eltűnése után kell megmérni. Ábrázoljuk az átviteli függvényt."
   ]
  },
  {
   "cell_type": "code",
   "execution_count": null,
   "metadata": {},
   "outputs": [],
   "source": [
    "# Átviteli függvény meghatározása"
   ]
  },
  {
   "cell_type": "code",
   "execution_count": null,
   "metadata": {},
   "outputs": [],
   "source": [
    "# Átviteli függvény ábrázolása"
   ]
  },
  {
   "cell_type": "markdown",
   "metadata": {},
   "source": [
    "## 4. feladat - Az impulzusválasz tulajdonságainak vizsgálata\n",
    "\n",
    "Szimuláljuk a fent használt sáváteresztő szűrő impulzusra adott válaszát. Mintavételezzük a válaszfüggvényt egyenletes időlépéssel, majd határozzuk meg a Fourier-transzformáltát. Hogyan viszonyul az impulzusválasz Fourier-transzformáltja az előző feladatban meghatározott átviteli függvényhez?"
   ]
  },
  {
   "cell_type": "code",
   "execution_count": null,
   "metadata": {},
   "outputs": [],
   "source": [
    "# Sáváteresztő szűrő impulzusválasza"
   ]
  },
  {
   "cell_type": "markdown",
   "metadata": {},
   "source": [
    "Interpoláljuk az impulzusválaszt egyenletes időfelbontású rácsra, majd határozzuk meg a Fourier-transzformáltját. Hasonlítsuk ezt össze a 3. feladatban meghatározott átviteli függvénnyel."
   ]
  },
  {
   "cell_type": "code",
   "execution_count": null,
   "metadata": {},
   "outputs": [],
   "source": [
    "# Sáváteresztő szűrő impulzusválaszának Fourier-transzformáltja"
   ]
  },
  {
   "cell_type": "markdown",
   "metadata": {},
   "source": [
    "Határozzuk meg az *aluláteresztő szűrő* impulzusválaszát, majd interpoláljuk időben egyenletes rácsra. Számoljuk ki a korábban már használt négyszögjel vagy más jelalak értékeit ugyanezen rácson. A `numpy.convolve` függvény segítségével számítsuk ki az impulzusválasz és a jelalak konvolúcióját. Hasonlítsuk ezt össze a 2. feladatban használt jelalakra kapott válasszal."
   ]
  },
  {
   "cell_type": "code",
   "execution_count": null,
   "metadata": {},
   "outputs": [],
   "source": [
    "# Aluláteresztő szűrő impulzusválasza"
   ]
  },
  {
   "cell_type": "code",
   "execution_count": null,
   "metadata": {},
   "outputs": [],
   "source": [
    "# Az impulzusválasz és a vizsgálójelek konvolúciójának meghatározása"
   ]
  },
  {
   "cell_type": "markdown",
   "metadata": {},
   "source": [
    "## 5. feladat - Zajok vizsgálata\n",
    "\n",
    "Vizsgáljuk meg a sáváteresztő szűrő zaj jellegű gerjesztésre adott válaszát. Ehhez állítsunk elő ún. fehérzajt. A fehérzajt az jellemzi, hogy minden Fourier-komponense azonos amplitúdójú, de a komponensekhez tartozó fázisok véletlen eloszlásúak.\n",
    "\n",
    "Ábrázoljuk a fehérzajt kinagyítva is, majd hasonlítsuk össze más, zaj jellegű függvényekke:\n",
    "\n",
    "* uniform zaj: az időfüggő jel értéke egyenletes eloszlásból származik\n",
    "* Poisson-zaj: az időfüggő jel értéke a Poisson-eloszlást követi\n",
    "\n",
    "Határozzuk meg a sáváteresztő és az aluláteresztő szűrők válaszfüggvényét a fehérzajra. Vizsgáljuk meg a fehérzajra adott válasz Fourier-transzformáltját, és hasonlítsuk össze a hálózat átviteli függvényével."
   ]
  },
  {
   "cell_type": "code",
   "execution_count": null,
   "metadata": {},
   "outputs": [],
   "source": [
    "# Zaj egyenletes eloszlásból generálva"
   ]
  },
  {
   "cell_type": "code",
   "execution_count": null,
   "metadata": {},
   "outputs": [],
   "source": [
    "# Egyenletes eloszlásból származó zaj Fourier-transzformáltja"
   ]
  },
  {
   "cell_type": "code",
   "execution_count": null,
   "metadata": {},
   "outputs": [],
   "source": [
    "# Poisson-zaj előállítása"
   ]
  },
  {
   "cell_type": "code",
   "execution_count": null,
   "metadata": {},
   "outputs": [],
   "source": [
    "# Poisson-zaj Frourier-transzformáltja"
   ]
  },
  {
   "cell_type": "code",
   "execution_count": null,
   "metadata": {},
   "outputs": [],
   "source": [
    "# Fehérzaj előállítása"
   ]
  },
  {
   "cell_type": "code",
   "execution_count": null,
   "metadata": {},
   "outputs": [],
   "source": [
    "# Sáváteresztő szűrő fehérzajra adott válaszának meghatározása"
   ]
  },
  {
   "cell_type": "code",
   "execution_count": null,
   "metadata": {},
   "outputs": [],
   "source": [
    "# A fehérzajra adott válasz Fourier-transzformáltja"
   ]
  }
 ],
 "metadata": {
  "kernelspec": {
   "display_name": "Python 3",
   "language": "python",
   "name": "python3"
  },
  "language_info": {
   "codemirror_mode": {
    "name": "ipython",
    "version": 3
   },
   "file_extension": ".py",
   "mimetype": "text/x-python",
   "name": "python",
   "nbconvert_exporter": "python",
   "pygments_lexer": "ipython3",
   "version": "3.6.3"
  }
 },
 "nbformat": 4,
 "nbformat_minor": 2
}
