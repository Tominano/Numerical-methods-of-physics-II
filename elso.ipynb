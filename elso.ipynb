{
 "cells": [
  {
   "cell_type": "markdown",
   "metadata": {},
   "source": [
    "# I. HÁZI FELADAT\n",
    "\n",
    "Ezt a feladatsort tetszőleges programozási nyelven meg lehet oldani, de a forráskódot minden esetben mellékelni kell. A python és octave megoldások programkódja kerülhet a jupyter notebookba. A programok legyenek modulárisak, használjanak függvényeket! A kimeneti adatok ábrázolásához minden esetben használjuk a jupyter notebookot! Az ábrák legyenek áttekinthetőek, és szerepeljen rajtuk tengelyfelirat!"
   ]
  },
  {
   "cell_type": "markdown",
   "metadata": {},
   "source": [
    "# Függvényillesztés a lineáris $\\chi^2$ módszerrel\n",
    "\n",
    "\n",
    "A lineáris $\\chi^2$-illesztés módszere olyan modellek paramétereinek meghatározására alkalmas, ahol az illesztendő függvény felírható tetszőleges függvények lineárkombinációjaként, feltéve, hogy az illesztési paraméterek csak a lineárkombináció együtthatóinak szerepét töltik be, vagyis\n",
    "\n",
    "$$ y(\\mathbf{a}, \\mathbf{x}) = \\sum_k a_k f_k(\\mathbf{x}), $$\n",
    "\n",
    "ahol $\\mathbf{a}$ a keresett paraméterekből alkotott vektor vektor, $\\mathbf{x}$ pedig a független változó. További feltétel, hogy az $f_k(\\mathbf{x})$ többváltozós függvények az összes $\\textbf{x}$ mérési pontban kiértékelhetők legyenek. Amennyiben a mérési hiba gauss-i, úgy az $y_i$ mért értékek hibáját egy $\\sigma_i$ értékkel jellemezhetjük, ahol az $i$ index a mérési pontokon fut. A függvényillesztés jóságát a\n",
    "\n",
    "$$\n",
    "\\chi^2(\\mathbf{a})\n",
    "    = \\sum_i \\frac{\\left[ y(\\mathbf{a}, \\mathbf{x}_i) - y_i \\right]^2}{\\sigma_i^2}\n",
    "    = \\sum_i \\frac{\\left[ \\sum_k a_k f_k(\\mathbf{x}_i) - y_i \\right]^2}{\\sigma_i^2}\n",
    "$$\n",
    "\n",
    "mennyiséggel jellemezhetjük, mely Gauss-eloszlású hiba esetében egzaktul következik a _maximum likelihood_ módszerből. A legjobban illeszkedő modellre a $\\chi^2$ kifejezésének értéke minimális, azaz azokat az $a_k$ paramétereket keressük, melyek mellett $\\chi^2$ parciális deriváltjai eltűnnek:\n",
    "\n",
    "$$\n",
    "\\frac{\\partial\\chi^2(\\mathbf{a})}{\\partial a_k} = 0\n",
    "$$\n",
    "\n",
    "minden $a_k$-ra. A parciális deriváltakra így felírt egyenletrendszer általában nem lineáris, így a megoldására közvetlen gyökkereső módszerekkel nem sok esélyünk van. Amennyiben azonban az $y(\\mathbf{a}, \\mathbf{x})$ modellt a fent bevezett lineárkombináció alakjában adjuk meg, úgy könnyen belátható, hogy a deriváltak nullává tétele a kövezkező egyenletrendszerre vezet:\n",
    "\n",
    "$$\n",
    "\\frac{\\partial\\chi^2(\\mathbf{a})}{\\partial a_k} =\n",
    "    2 \\cdot \\sum_i \\left[ \\frac{1}{\\sigma_i^2} \\cdot \n",
    "        \\left( \n",
    "            \\sum_j a_j f_j(\\mathbf{x}_i) - y_i\n",
    "        \\right) \\cdot f_k(\\mathbf{x}_i) \\right] = 0.\n",
    "$$\n",
    "\n",
    "Ez már lineáris egyenletrendszer az $a_k$ együtthatókra, hiszen az $y_i$ mért értékek és az $f_k(\\mathbf{x}_i)$ bázisfüggvények az $\\mathbf{x}_i$ mérési pontokban ismertek. Könnyű belátni, hogy némi átírás után bevezethető egy $X_{ik}$, ún. tervmátrix, és egy $b_i$ hibával redukált vektor:\n",
    "\n",
    "$$\n",
    "X_{ik} = \\frac{f_k(\\mathbf{x}_i)}{\\sigma_i} \\quad \\quad \\quad\n",
    "b_i = \\frac{y_i}{\\sigma_i}.\n",
    "$$\n",
    "\n",
    "A parciális deriváltak nullává tételével felírt egyenletrendszer ezekkel a jelölésekkel\n",
    "\n",
    "$$\n",
    "\\frac{\\partial\\chi^2(\\mathbf{a})}{\\partial a_k} =\n",
    "    \\sum_i \\left[ \\left( \\sum_j a_j X_{ij} - b_i \\right) X_{ik} \\right] = 0\n",
    "$$\n",
    "\n",
    "alakúnak adódik, mely átrendezés után \n",
    "\n",
    "$$\n",
    "\\sum_i \\sum_j X_{ij} X_{ik} a_j  = \\sum_i X_{ik} b_i,\n",
    "$$\n",
    "\n",
    "vagy mátrixos írásmóddal\n",
    "\n",
    "$$\n",
    "\\mathbf{X}^{T} \\mathbf{X} \\mathbf{a} = \\mathbf{X}^{T} \\mathbf{b}\n",
    "$$\n",
    "\n",
    "alakot ölt. Az egyenletet $\\mathbf{a}$-ra megoldva megkapjuk a $\\chi^2$-et minimalizáló paramétereket.\n",
    "\n",
    "## A redukált $\\chi^2$\n",
    "\n",
    "Mivel a $\\chi^2$-re felírt kifejezés függ a mérési pontok számától, ezért a $\\chi^2$ értéke nem használható arra, hogy két, különböző mérési sorozat esetében megállapítsuk, hogy ugyanaz a modell mennyire jól illeszkedik az egyik vagy másik adatsorra. Éppen ezért érdemes bevezetni a redukált $\\chi^2$ nevű mennyiséget:\n",
    "\n",
    "$$\n",
    "\\chi^2_\\nu = \\frac{\\chi^2}{\\nu},\n",
    "$$\n",
    "\n",
    "ahol $\\nu = N - M$ a szabadsági fokok száma, azaz a mérési adatpontok száma mínusz az illesztendő paraméterek száma. Jó illesztésről akkor beszélhetünk, ha $\\chi^2_\\nu \\approx 1$.\n",
    "\n",
    "## Az illesztett paraméterek aszimptotikus hibája\n",
    "\n",
    "A lineáris $\\chi^2$ módszerrel illesztett modellek paramétereinek hibáját úgy becsülthetjük meg, hogy tekintjük a $\\chi^2(\\mathbf{a})$ függvény második parciális deriváltjaiból alkotott mátrixot, hiszen a $\\chi^2$ kifejezésének Taylor-sorában az ennek megfelelő tag nem tűnik el minimum környezetében. Tekintve, hogy\n",
    "\n",
    "$$\n",
    "\\frac{\\partial^2 \\chi^2(\\mathbf{a})}{\\partial a_k \\partial a_l} =\n",
    "    \\sum_i X_{ij} X_{ik} = \\sum_i \\frac{f_k(\\mathbf{x}_i) f_l(\\mathbf{x}_i)}{\\sigma_i^2} =\n",
    "    \\alpha_{kl},\n",
    "$$\n",
    "\n",
    "az így bevezett $\\mathbf{\\alpha} = \\mathbf{X}^{T} \\mathbf{X}$ szimmetrikus mátrixról belátható, hogy annak $\\mathbf{C} = \\mathbf{\\alpha}^{-1}$ inverze, az ún. kovarianciamátrix, jól jellemzi az illesztett paraméterek hibáját és kovarianciáját. Az $a_k$ paraméter hibája egyszerűen $\\sigma_{a_k}^2 = C_{kk}$, míg az $a_k$ és $a_l$ paraméterek kovarianciája a $ \\textrm{cov}(a_k, a_l) = C_{kl}$ mátrixelem. Az így kiszámított hibák ún. aszimptotikus hibák, hiszen csupán a $\\chi^2$ felület másodrendű közelítését veszik figyelembe a minimumhely környezetében.\n",
    "\n",
    "## Hibabecslés a bootstrap módszerrel\n",
    "\n",
    "Az illesztett paraméterek hibájának pontos megbecslését olyan Monte Carlo módszerrel végezhetnénk el, mely képes mintavételezni az illesztési paraméterek pontos $p(\\mathbf{a})$ együttes eloszlásfüggvényét. Ehelyett egy gyakran használt, egyszerűbb, de igen hasznos eljárás a [bootstrap](https://outdoors.stackexchange.com/questions/11709/whats-the-purpose-of-the-sling-on-the-heel-of-boots) módszer, ahol az illesztést a mérési adatok egy véletlen részhalmazára (pl. egyharmadára) végezzük el, majd egy másik véletlen részhalmazt választunk, mellyel ismét elvégezzük az illesztést, és így tovább. Kellően sokszor megismételve az eljárást az illesztési paraméterekre egy-egy eloszlást kapunk, melyeknek meghatározhatjuk a várható értékét, szórását és kovarianciáit. A legjobban illeszkedő modellparamétereknek tekinthetjük az eloszlások várható értékét, míg illesztési hibának a szórásukat.\n",
    "\n",
    "\n",
    "## Irodalomjegyzék\n",
    "\n",
    "* Press, Teukolsky, Vetterling & Flannery: Numerical Recipes (in C), 3. kiadás, Cambridge University Press, 15.4. fejezet"
   ]
  },
  {
   "cell_type": "markdown",
   "metadata": {},
   "source": [
    "# Feladatok\n",
    "\n",
    "## 1. feladat\n",
    "\n",
    "Az alábbi függvény egy véletlenszerű adatsort generál. Írjunk rövid programot, mely az adatokra parabolát illeszt! A program ne beépített függvényillesztő rutint használjon, hanem végezze el a számolást a fent definiált $X_{ij}$ mátrix előállításával, és felírt lineáris egyenletrendszer megoldásával! Az egyenletrendszer megoldására tetszőleges függvénykönyvtár használható. Ábrázoljuk az adatokat és az eredményt! Próbáljuk meg úgy megírni a programot, hogy az tetszőleges fokszámú polinom illesztésére is alkalmas legyen! Számítsuk ki a legjobban illeszkedő modell esetében a redukált $\\chi^2$ értékét!"
   ]
  },
  {
   "cell_type": "code",
   "execution_count": 1,
   "metadata": {},
   "outputs": [
    {
     "name": "stdout",
     "output_type": "stream",
     "text": [
      "Populating the interactive namespace from numpy and matplotlib\n"
     ]
    }
   ],
   "source": [
    "import numpy as np\n",
    "import matplotlib.pyplot as plt\n",
    "# A szokásos import\n",
    "%pylab inline\n",
    "\n",
    "def some_random_coeffs():\n",
    "    a = 10 * np.random.rand() - 2.5\n",
    "    b = 20 * np.random.rand() - 5\n",
    "    c = 100 * np.random.rand() - 50\n",
    "    return a, b, c\n",
    "\n",
    "def some_random_data(a, b, c, N):\n",
    "    x = np.linspace(-N, N, 2 * N + 1)\n",
    "    sigma = 10 * (np.random.rand(x.shape[0]) + 1)\n",
    "    y = np.random.normal(a * x**2 + b * x + c, sigma)\n",
    "    return x, y, sigma\n",
    "\n",
    "def random_data_with_outliers(a, b, c, N, M):\n",
    "    x, y, sigma = some_random_data(a, b, c, N)\n",
    "    idx = np.random.randint(0, 2 * N, M)\n",
    "    y[idx] = np.min(y) + np.random.rand() * (np.max(y) - np.min(y))\n",
    "    return x, y, sigma"
   ]
  },
  {
   "cell_type": "code",
   "execution_count": 2,
   "metadata": {},
   "outputs": [],
   "source": [
    "a, b, c = some_random_coeffs()\n",
    "x, y, sigma = some_random_data(a, b, c, 10)\n",
    "#np.savetxt('adatsor.txt', np.transpose([x, y, sigma]))"
   ]
  },
  {
   "cell_type": "code",
   "execution_count": 3,
   "metadata": {},
   "outputs": [],
   "source": [
    "# ábra készítésére a függvény a mérési pontokkal és hibaintervallumokkal\n",
    "def ill(x,y):\n",
    "    figsize(15,10)\n",
    "    plt.plot(x, y, marker='o', linestyle='', label='Eredeti mérési adatok')\n",
    "    xlabel('Mérési pontok', fontsize = '20')\n",
    "    ylabel('Mért értékek', fontsize = '20')\n",
    "    plt.errorbar(x,y,sigma,linestyle='')\n",
    "    legend(loc='upper left')\n",
    "    plt.show()"
   ]
  },
  {
   "cell_type": "code",
   "execution_count": 4,
   "metadata": {},
   "outputs": [
    {
     "data": {
      "image/png": "[encoded data removed]",
      "text/plain": [
       "<Figure size 1080x720 with 1 Axes>"
      ]
     },
     "metadata": {
      "needs_background": "light"
     },
     "output_type": "display_data"
    }
   ],
   "source": [
    "ill(x,y)"
   ]
  },
  {
   "cell_type": "code",
   "execution_count": 5,
   "metadata": {},
   "outputs": [],
   "source": [
    "# az elő illesztés khi^2 módszerrel ugyan úgy mint az előző feladatban\n",
    "\n",
    "def illesztes(x,y,sigma):\n",
    "    \n",
    "    terv = np.empty((x.shape[0],3))  #megnézem a x hosszát és akkora üres mtrx-et hozok létre\n",
    "    b = np.empty((y.shape[0]))    #megnézem y ont és akkora üres vektort hozok létre\n",
    "    a = np.empty((3))  #létrehozom az a vektort ami tartalmazni fogja a minimalizáló paramétereket\n",
    "\n",
    "    for i in range (y.shape[0]): # b vektor elemeinek létrehozása\n",
    "        b[i] = y[i]/sigma[i]\n",
    "\n",
    "    for i in range(3):           # Tervmátrix elemeinek létrehozása\n",
    "        terv[:,i] = x**i / sigma\n",
    "\n",
    "    #a begoldandó egyenlet --> terv.T* terv * a = terv.T * b\n",
    "\n",
    "    a = np.linalg.solve(np.dot(terv.transpose(),terv),np.dot(terv.transpose(),b))\n",
    "\n",
    "    plothoz = np.empty((x.shape[0],3))\n",
    "\n",
    "    for j in range(3):\n",
    "            plothoz[:,j] = x**j\n",
    "\n",
    "    khi2 = (((np.dot(plothoz,a)) - y)**2)/(sigma)**2    # khi^2 kiszámolása\n",
    "\n",
    "    redkhi2 = khi2/(x.shape[0] -(len(a)))          # a redukált chi^2 értéke a legjobban illeszkedő modell esetére\n",
    "    print(redkhi2)\n",
    "    \n",
    "    residual = np.dot(plothoz,a) - khi2\n",
    "    \n",
    "    plt.plot(x, y, marker='o', linestyle='', label='Eredeti mérési pontok')\n",
    "    plt.plot(x, np.dot(plothoz,a), label='Az illesztett görge')\n",
    "    plt.errorbar(x,y,sigma,linestyle='')\n",
    "#    plt.plot(x,residual, label='Residual')\n",
    "#    plt.plot(x,khi2, label='Khi^2')\n",
    "    xlabel('Mérési pontok', fontsize = '20')\n",
    "    ylabel('Mért értékek', fontsize = '20')\n",
    "    legend(loc='upper left')\n",
    "\n",
    "\n",
    "\n",
    "    \n",
    "    return plothoz,a"
   ]
  },
  {
   "cell_type": "code",
   "execution_count": 6,
   "metadata": {},
   "outputs": [
    {
     "name": "stdout",
     "output_type": "stream",
     "text": [
      "[0.01518301 0.02872276 0.01477545 0.02150119 0.1018851  0.00319506\n",
      " 0.09005545 0.1659352  0.0255502  0.0664275  0.04660835 0.01211359\n",
      " 0.03687125 0.09492447 0.25139176 0.05278789 0.11945923 0.13367082\n",
      " 0.00054712 0.02128038 0.17446947]\n"
     ]
    },
    {
     "data": {
      "text/plain": [
       "(array([[  1., -10., 100.],\n",
       "        [  1.,  -9.,  81.],\n",
       "        [  1.,  -8.,  64.],\n",
       "        [  1.,  -7.,  49.],\n",
       "        [  1.,  -6.,  36.],\n",
       "        [  1.,  -5.,  25.],\n",
       "        [  1.,  -4.,  16.],\n",
       "        [  1.,  -3.,   9.],\n",
       "        [  1.,  -2.,   4.],\n",
       "        [  1.,  -1.,   1.],\n",
       "        [  1.,   0.,   0.],\n",
       "        [  1.,   1.,   1.],\n",
       "        [  1.,   2.,   4.],\n",
       "        [  1.,   3.,   9.],\n",
       "        [  1.,   4.,  16.],\n",
       "        [  1.,   5.,  25.],\n",
       "        [  1.,   6.,  36.],\n",
       "        [  1.,   7.,  49.],\n",
       "        [  1.,   8.,  64.],\n",
       "        [  1.,   9.,  81.],\n",
       "        [  1.,  10., 100.]]),\n",
       " array([-45.79154054,  12.43627212,   0.1702301 ]))"
      ]
     },
     "execution_count": 6,
     "metadata": {},
     "output_type": "execute_result"
    },
    {
     "data": {
      "image/png": "[encoded data removed]",
      "text/plain": [
       "<Figure size 1080x720 with 1 Axes>"
      ]
     },
     "metadata": {
      "needs_background": "light"
     },
     "output_type": "display_data"
    }
   ],
   "source": [
    "illesztes(x,y,sigma)"
   ]
  },
  {
   "cell_type": "markdown",
   "metadata": {},
   "source": [
    "## 2. feladat\n",
    "\n",
    "Az alábbi függvényhívás olyan adatsort generál, amely kilógó (a megadott hibaértékkel nem jól jellemzett, vagy sok szigma értékkel eltérő) adatpontokat is tartalmaz. Írjunk programot, mely a $3\\sigma$-nál jobban kilógó pontok elhagyásával, két lépésben, illetve iteratív módon végzi el a parabolaillesztést!"
   ]
  },
  {
   "cell_type": "code",
   "execution_count": 7,
   "metadata": {},
   "outputs": [
    {
     "name": "stdout",
     "output_type": "stream",
     "text": [
      "Populating the interactive namespace from numpy and matplotlib\n"
     ]
    }
   ],
   "source": [
    "import numpy as np\n",
    "import matplotlib.pyplot as plt\n",
    "# A szokásos import\n",
    "%pylab inline\n",
    "\n",
    "def some_random_coeffs():\n",
    "    a = 10 * np.random.rand() - 2.5\n",
    "    b = 20 * np.random.rand() - 5\n",
    "    c = 100 * np.random.rand() - 50\n",
    "    return a, b, c\n",
    "\n",
    "def some_random_data(a, b, c, N):\n",
    "    x = np.linspace(-N, N, 2 * N + 1)\n",
    "    sigma = 10 * (np.random.rand(x.shape[0]) + 1)\n",
    "    y = np.random.normal(a * x**2 + b * x + c, sigma)\n",
    "    return x, y, sigma\n",
    "\n",
    "def random_data_with_outliers(a, b, c, N, M):\n",
    "    x, y, sigma = some_random_data(a, b, c, N)\n",
    "    idx = np.random.randint(0, 2 * N, M)\n",
    "    y[idx] = np.min(y) + np.random.rand() * (np.max(y) - np.min(y))\n",
    "    return x, y, sigma"
   ]
  },
  {
   "cell_type": "code",
   "execution_count": 8,
   "metadata": {},
   "outputs": [],
   "source": [
    "#A feladat elvégzéséhez megírt rész\n",
    "a, b, c = some_random_coeffs()\n",
    "x, y, sigma = random_data_with_outliers(a, b, c, 10, 3)\n"
   ]
  },
  {
   "cell_type": "code",
   "execution_count": 9,
   "metadata": {},
   "outputs": [],
   "source": [
    "# az elő illesztés khi^2 módszerrel ugyan úgy mint az előző feladatban\n",
    "\n",
    "def illesztes(x,y,sigma):\n",
    "    \n",
    "    terv = np.empty((x.shape[0],3))  #megnézem a x hosszát és akkora üres mtrx-et hozok létre\n",
    "    b = np.empty((y.shape[0]))    #megnézem y ont és akkora üres vektort hozok létre\n",
    "    a = np.empty((3))  #létrehozom az a vektort ami tartalmazni fogja a minimalizáló paramétereket\n",
    "\n",
    "    for i in range (y.shape[0]): # b vektor elemeinek létrehozása\n",
    "        b[i] = y[i]/sigma[i]\n",
    "\n",
    "    for i in range(3):           # Tervmátrix elemeinek létrehozása\n",
    "        terv[:,i] = x**i / sigma\n",
    "\n",
    "    #a begoldandó egyenlet --> terv.T* terv * a = terv.T * b\n",
    "\n",
    "    a = np.linalg.solve(np.dot(terv.transpose(),terv),np.dot(terv.transpose(),b))\n",
    "\n",
    "    plothoz = np.empty((x.shape[0],3))\n",
    "\n",
    "#    for i in range(x.shape[0]):\n",
    "    for j in range(3):\n",
    "            plothoz[:,j] = x**j\n",
    "\n",
    "    khi2 = (((np.dot(plothoz,a)) - y)**2)/(sigma)**2    # khi^2 kiszámolása\n",
    "\n",
    "    redkhi2 = khi2/(x.shape[0] -(len(a)))          # a redukált chi^2 értéke a legjobban illeszkedő modell esetére\n",
    "    print(redkhi2)\n",
    "    \n",
    "    residual = np.dot(plothoz,a) - khi2\n",
    "    \n",
    "    plt.plot(x, y, marker='o', linestyle='', label='Eredeti mérési pontok')\n",
    "    plt.plot(x, np.dot(plothoz,a), label='Az illesztett görge')\n",
    "    plt.errorbar(x,y,sigma,linestyle='')\n",
    "#    plt.plot(x,residual, label='Residual')\n",
    "    xlabel('Mérési pontok', fontsize = '20')\n",
    "    ylabel('Mért értékek', fontsize = '20')\n",
    "    legend(loc='upper left')\n",
    "\n",
    "\n",
    "\n",
    "    \n",
    "    return plothoz,a"
   ]
  },
  {
   "cell_type": "code",
   "execution_count": 10,
   "metadata": {},
   "outputs": [
    {
     "name": "stdout",
     "output_type": "stream",
     "text": [
      "[1.92029117e-02 6.00879610e-02 1.41418281e-01 2.02951592e-02\n",
      " 2.90947893e-03 1.33690217e-01 9.83800329e-02 1.32683891e+00\n",
      " 9.99215844e-02 3.36618184e-01 2.45677425e-01 1.06752891e+01\n",
      " 4.70309033e-01 1.19240125e+00 3.04436300e-01 5.96553062e-02\n",
      " 6.43290688e+00 2.51874286e-01 5.39761051e-01 2.48768814e-01\n",
      " 2.27515607e-02]\n",
      "[1.33047724e-02 1.55538905e-03 8.94292930e-02 3.23465083e-02\n",
      " 1.60529163e-02 4.02011363e-02 1.34457865e-03 5.27273221e-01\n",
      " 2.83751346e-02 9.25858072e-03 1.72615515e-02 1.91123667e-02\n",
      " 3.81877709e-01 8.79747398e-02 1.30697181e-03 8.38845022e+00\n",
      " 1.32131597e-01 4.97203528e-01 3.33851265e-01 9.84715940e-02]\n"
     ]
    },
    {
     "data": {
      "text/plain": [
       "(array([-10.,  -9.,  -8.,  -7.,  -6.,  -5.,  -4.,  -3.,  -2.,  -1.,   0.,\n",
       "          2.,   3.,   4.,   5.,   6.,   7.,   8.,   9.,  10.]),\n",
       " (array([[  1., -10., 100.],\n",
       "         [  1.,  -9.,  81.],\n",
       "         [  1.,  -8.,  64.],\n",
       "         [  1.,  -7.,  49.],\n",
       "         [  1.,  -6.,  36.],\n",
       "         [  1.,  -5.,  25.],\n",
       "         [  1.,  -4.,  16.],\n",
       "         [  1.,  -3.,   9.],\n",
       "         [  1.,  -2.,   4.],\n",
       "         [  1.,  -1.,   1.],\n",
       "         [  1.,   0.,   0.],\n",
       "         [  1.,   2.,   4.],\n",
       "         [  1.,   3.,   9.],\n",
       "         [  1.,   4.,  16.],\n",
       "         [  1.,   5.,  25.],\n",
       "         [  1.,   6.,  36.],\n",
       "         [  1.,   7.,  49.],\n",
       "         [  1.,   8.,  64.],\n",
       "         [  1.,   9.,  81.],\n",
       "         [  1.,  10., 100.]]),\n",
       "  array([-38.24869686,   4.99727701,  -1.7409344 ])),\n",
       " False)"
      ]
     },
     "execution_count": 10,
     "metadata": {},
     "output_type": "execute_result"
    },
    {
     "data": {
      "image/png": "[encoded data removed]",
      "text/plain": [
       "<Figure size 432x288 with 1 Axes>"
      ]
     },
     "metadata": {
      "needs_background": "light"
     },
     "output_type": "display_data"
    }
   ],
   "source": [
    "def maxell(x,y,a,plothoz):\n",
    "    \n",
    "    oszto = np.empty((x.shape[0]))\n",
    "    for i in range (x.shape[0]):\n",
    "        oszto[i] = sigma[i]*3 \n",
    "    end = abs((np.dot(plothoz,a)) -y)/oszto\n",
    "\n",
    "    max = 1\n",
    "    maxi = None\n",
    "    for i in range(end.shape[0]):\n",
    "        if (end[i]>max):\n",
    "            max = end[i]\n",
    "            maxi = i\n",
    "    if maxi is None:\n",
    "        xR = x\n",
    "        yR = y\n",
    "        sigmaR = sigma\n",
    "    else:\n",
    "        xR = np.delete(x,maxi,axis = None)\n",
    "        yR = np.delete(y,maxi,axis = None)\n",
    "        sigmaR = np.delete(sigma,maxi,axis = None)\n",
    "    eredmeny = illesztes(xR, yR, sigmaR)\n",
    "    \n",
    "    return xR, eredmeny, xR.shape[0] == x.shape[0]\n",
    "\n",
    "eredmeny = illesztes(x,y,sigma)\n",
    "maxell(x,y,eredmeny[1],eredmeny[0])"
   ]
  },
  {
   "cell_type": "code",
   "execution_count": null,
   "metadata": {},
   "outputs": [],
   "source": [
    "def maxell(x,y,a,plothoz):\n",
    "    \n",
    "    oszto = np.empty((x.shape[0]))\n",
    "    for i in range (x.shape[0]):\n",
    "        oszto[i] = sigma[i]*3 \n",
    "    end = abs((np.dot(plothoz,a)) -y)/oszto\n",
    "\n",
    "    szür = end >1\n",
    "    \n",
    "    xR = np.dot(x*szür)\n",
    "    yR = np.dot(y*szür)\n",
    "\n",
    "    return xR,yR"
   ]
  },
  {
   "cell_type": "code",
   "execution_count": null,
   "metadata": {},
   "outputs": [],
   "source": [
    "illesztes(x,y,sigma)\n",
    "maxell(x,y,a,plothoz)"
   ]
  },
  {
   "cell_type": "markdown",
   "metadata": {},
   "source": [
    "## 3. feladat\n",
    "\n",
    "Írjuk függvényt, mely meghatározza az illesztett paraméterek aszimptotikus hibáját és kovarianciáját."
   ]
  },
  {
   "cell_type": "code",
   "execution_count": null,
   "metadata": {},
   "outputs": [],
   "source": [
    "# a szórások és aszimptotikus hibák meghatározása"
   ]
  },
  {
   "cell_type": "markdown",
   "metadata": {},
   "source": [
    "## 4. feladat\n",
    "\n",
    "Határozzuk meg a kilógó pontokat is tartalmazó adatsor esetében az illesztett parabola paramétereinek eloszlását és hibáját a bootstrap módszer segítségével. A bootstrap eljárás során az illesztést többször megismételjük oly módon, hogy mindig csak a mérési pontok egy véletlen részhalmazát (pl. 60%-át) használjuk fel az illesztéshez. Az így kapott illesztési paraméterekből készítsünk hisztogramot, valamint számítsuk ki a paraméterek várható értékét és szórását! Hasonlítsuk össze a kapott értékeket a kovarianciamátrixból számolt aszimptotikus hibával."
   ]
  },
  {
   "cell_type": "code",
   "execution_count": null,
   "metadata": {},
   "outputs": [],
   "source": [
    "# a bootstrap módszer megvalósítása"
   ]
  },
  {
   "cell_type": "code",
   "execution_count": null,
   "metadata": {},
   "outputs": [],
   "source": [
    "# a bootstrap módszerrel kapott illesztési paraméterek eloszlása -- ábrák"
   ]
  },
  {
   "cell_type": "code",
   "execution_count": null,
   "metadata": {},
   "outputs": [],
   "source": [
    "# a várható értékek, szórások és kovarianciák meghatározása"
   ]
  },
  {
   "cell_type": "markdown",
   "metadata": {},
   "source": [
    "## 5. feladat\n",
    "\n",
    "A mellékelt fájlok olyan adatokat tartalmaznak, ahol öt független változó és egy skalár mért érték között van összefüggés. Írjunk függvényt, mely többváltozós polinomokat illeszt az adatokra a lineáris $\\chi^2$ módszer segítségével. A többváltozós polinomok olyan összeg alakban felírt formulák, ahol az összeg minden tagja $k$ változó egész kitevőjű hatványainak szorzata. A többváltozós polinom fokszámát az a tag adja, melyben a hatványkitevők összege maximális. Például a\n",
    "\n",
    "$$\n",
    "p(x, y, z) = 3 + 5 x^2 + 4 x y z + 6 y z^3\n",
    "$$\n",
    "\n",
    "háromváltozós, negyedfokú polinom, mely vegyes tagokat is tartalmaz.\n",
    "\n",
    "Az illesztés elvégzése után határozzuk meg az illesztési paraméterek hibáit, és keressünk módot arra, hogy miként ábrázolható a többváltozós illesztés jósága!\n",
    "\n",
    "Adatfájlok:\n",
    "    \n",
    "* [small.dat](www.vo.elte.hu/~dobos/teaching/fiznum2019/data/small.dat.gz)\n",
    "* [big.dat](www.vo.elte.hu/~dobos/teaching/fiznum2019/data/big.dat.gz)\n",
    "\n",
    "A fájlok oszlopai:\n",
    "\n",
    "* 1-5: független változó komponensei\n",
    "* 6: függő változó (mért érték)\n",
    "* 7: mérési hiba"
   ]
  },
  {
   "cell_type": "code",
   "execution_count": null,
   "metadata": {},
   "outputs": [],
   "source": []
  },
  {
   "cell_type": "code",
   "execution_count": null,
   "metadata": {},
   "outputs": [],
   "source": []
  },
  {
   "cell_type": "code",
   "execution_count": null,
   "metadata": {},
   "outputs": [],
   "source": []
  }
 ],
 "metadata": {
  "kernelspec": {
   "display_name": "Python 3",
   "language": "python",
   "name": "python3"
  },
  "language_info": {
   "codemirror_mode": {
    "name": "ipython",
    "version": 3
   },
   "file_extension": ".py",
   "mimetype": "text/x-python",
   "name": "python",
   "nbconvert_exporter": "python",
   "pygments_lexer": "ipython3",
   "version": "3.6.7"
  }
 },
 "nbformat": 4,
 "nbformat_minor": 2
}
